{
 "cells": [
  {
   "cell_type": "code",
   "execution_count": null,
   "metadata": {},
   "outputs": [],
   "source": [
    "#  Birthday problem: There are $k$ people in a room. What is the probability that at least one pair\n",
    "#   of people in the group have the same birthday?\n",
    "# (365-k+1)!/(365)^k\n",
    "#     - can you write code to plot the probability as a function of k?\n",
    "#     - can you write code to simulate picking birthdays and computing the probability?\n"
   ]
  },
  {
   "cell_type": "code",
   "execution_count": 1,
   "metadata": {},
   "outputs": [],
   "source": [
    "#k : number_people\n",
    "\n",
    "def get_probability_birthday(k):\n",
    "    result = []\n",
    "    calender_days = 365\n",
    "    \n",
    "    denominator = 1\n",
    "    numerator = 1\n",
    "    for j in range(k):\n",
    "        numerator *= (calender_days - j)\n",
    "        denominator *= calender_days\n",
    "    prob = 1 - numerator / denominator\n",
    "    result.append(prob)\n",
    "    \n",
    "    return round(sum(result) / len(result), 2)         "
   ]
  },
  {
   "cell_type": "code",
   "execution_count": 2,
   "metadata": {},
   "outputs": [
    {
     "data": {
      "text/plain": [
       "0.63"
      ]
     },
     "execution_count": 2,
     "metadata": {},
     "output_type": "execute_result"
    }
   ],
   "source": [
    "get_probability_birthday(27)"
   ]
  },
  {
   "cell_type": "code",
   "execution_count": 4,
   "metadata": {},
   "outputs": [
    {
     "data": {
      "image/png": "[encoded data removed]",
      "text/plain": [
       "<Figure size 432x288 with 1 Axes>"
      ]
     },
     "metadata": {
      "needs_background": "light"
     },
     "output_type": "display_data"
    }
   ],
   "source": [
    "import seaborn as sns\n",
    "import matplotlib.pyplot as plt \n",
    "sns.lineplot(x = [k for k in range(100)], y = [get_probability_birthday(k) for k in range(100)] )\n",
    "plt.show()"
   ]
  },
  {
   "cell_type": "code",
   "execution_count": 5,
   "metadata": {},
   "outputs": [],
   "source": [
    "# if you want to write a simulation to get the probability:\n",
    "\n",
    "import random\n",
    "\n",
    "def get_probability_birthday_simulation(k, num_iteration):\n",
    "    calender_days = 365\n",
    "    people_different_birthday = []\n",
    "    \n",
    "    for _ in range(num_iteration):\n",
    "    \n",
    "        # for this iteration:\n",
    "        birthday_holder = []\n",
    "        for j in range(k):\n",
    "            person_birthday = random.randint(1, calender_days)\n",
    "            birthday_holder.append(person_birthday)\n",
    "\n",
    "        if len(birthday_holder) != len(set(birthday_holder)):\n",
    "            people_different_birthday.append(1)\n",
    "        else:\n",
    "            people_different_birthday.append(0)        \n",
    "        \n",
    "    prob = round(sum(people_different_birthday) / num_iteration,2)\n",
    "       \n",
    "    return prob"
   ]
  },
  {
   "cell_type": "code",
   "execution_count": 6,
   "metadata": {},
   "outputs": [
    {
     "data": {
      "text/plain": [
       "0.63"
      ]
     },
     "execution_count": 6,
     "metadata": {},
     "output_type": "execute_result"
    }
   ],
   "source": [
    "get_probability_birthday_simulation(k = 27, num_iteration = 10000)"
   ]
  },
  {
   "cell_type": "code",
   "execution_count": null,
   "metadata": {},
   "outputs": [],
   "source": []
  }
 ],
 "metadata": {
  "kernelspec": {
   "display_name": "Python 3",
   "language": "python",
   "name": "python3"
  },
  "language_info": {
   "codemirror_mode": {
    "name": "ipython",
    "version": 3
   },
   "file_extension": ".py",
   "mimetype": "text/x-python",
   "name": "python",
   "nbconvert_exporter": "python",
   "pygments_lexer": "ipython3",
   "version": "3.7.1"
  }
 },
 "nbformat": 4,
 "nbformat_minor": 2
}
