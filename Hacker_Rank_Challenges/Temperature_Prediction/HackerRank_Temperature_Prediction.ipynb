{
 "cells": [
  {
   "cell_type": "code",
   "execution_count": 132,
   "metadata": {},
   "outputs": [],
   "source": [
    "import sklearn\n",
    "from sklearn import linear_model\n",
    "import numpy\n",
    "import pandas as pd\n",
    "\n",
    "from sklearn.linear_model import LinearRegression\n",
    "import numpy as np\n",
    "import fileinput"
   ]
  },
  {
   "cell_type": "code",
   "execution_count": null,
   "metadata": {},
   "outputs": [],
   "source": [
    "# Hacker Rank Problem Link:\n",
    "# https://www.hackerrank.com/challenges/temperature-predictions/problem"
   ]
  },
  {
   "cell_type": "markdown",
   "metadata": {},
   "source": [
    "Solution 1: Build a linear regression model from stratch"
   ]
  },
  {
   "cell_type": "code",
   "execution_count": 147,
   "metadata": {},
   "outputs": [],
   "source": [
    "# When reading from local files:\n",
    "\n",
    "df = pd.read_csv('Temperature_Prediction_Sample.txt', header = 1, delim_whitespace=True)\n",
    "df = pd.get_dummies(df, columns=['month'])\n"
   ]
  },
  {
   "cell_type": "code",
   "execution_count": null,
   "metadata": {},
   "outputs": [],
   "source": [
    "# When reading from Hacker Rank:\n",
    "# temp = []  \n",
    "# for f in fileinput.input(): \n",
    "#     temp.append(f)\n",
    "\n",
    "# df = pd.DataFrame(temp)\n",
    "# df[0] = df[0].str.replace('\\n', '')\n",
    "# df = df[0].str.split('\\t').apply(pd.Series)\n",
    "# df = df[1:]\n",
    "# new_header = df.iloc[0] \n",
    "# df = df[1:] \n",
    "# df.columns = new_header\n",
    "\n",
    "# df = pd.get_dummies(df, columns=['month'])\n",
    "# df = df.reset_index()"
   ]
  },
  {
   "cell_type": "code",
   "execution_count": 143,
   "metadata": {},
   "outputs": [],
   "source": [
    "def training(column_name):\n",
    "    # both tmax and tmin has to have values\n",
    "    df_training = df[~df[\"tmax\"].str.contains('Missing', na=False)]\n",
    "    df_training = df_training[~df_training[\"tmin\"].str.contains('Missing', na=False)]\n",
    "    \n",
    "    training_label = df_training[column_name]\n",
    "    training_features = df_training.drop([column_name], axis=1)\n",
    "    \n",
    "    model = LinearRegression()\n",
    "    model.fit(training_features, training_label)\n",
    "    \n",
    "    return model\n"
   ]
  },
  {
   "cell_type": "code",
   "execution_count": 145,
   "metadata": {},
   "outputs": [],
   "source": [
    "min_model = training(\"tmin\")\n",
    "max_model = training(\"tmax\")\n"
   ]
  },
  {
   "cell_type": "code",
   "execution_count": 242,
   "metadata": {},
   "outputs": [
    {
     "name": "stdout",
     "output_type": "stream",
     "text": [
      "11.73\n",
      "17.59\n",
      "17.98\n",
      "-0.0 2\n"
     ]
    }
   ],
   "source": [
    "for i in range(len(df)):\n",
    "    row_val = df.loc[i, :]\n",
    "    if 'Missing' in row_val['tmin']:\n",
    "        min_feature = pd.DataFrame(row_val.drop(['tmin'])).T\n",
    "        print(round(min_model.predict(min_feature)[0]),2)\n",
    "        \n",
    "    if 'Missing' in row_val['tmax']:\n",
    "        max_feature = pd.DataFrame(row_val.drop(['tmax'])).T\n",
    "        print(round(max_model.predict(max_feature)[0],2))\n",
    "    "
   ]
  },
  {
   "cell_type": "markdown",
   "metadata": {},
   "source": [
    "Solution 2: Simply use a pandas interpolate function"
   ]
  },
  {
   "cell_type": "code",
   "execution_count": 148,
   "metadata": {},
   "outputs": [],
   "source": [
    "# When reading from local files:\n",
    "\n",
    "df = pd.read_csv('Temperature_Prediction_Sample.txt', header = 1, delim_whitespace=True)\n",
    "df = pd.get_dummies(df, columns=['month'])"
   ]
  },
  {
   "cell_type": "code",
   "execution_count": 232,
   "metadata": {},
   "outputs": [
    {
     "name": "stdout",
     "output_type": "stream",
     "text": [
      "[[3, 1], [4, 1], [6, 1], [11, 2]]\n"
     ]
    }
   ],
   "source": [
    "df2 = df.copy()\n",
    "\n",
    "missing_index = []\n",
    "for i in range(len(df)):\n",
    "    for j in range(len(df.loc[0])):\n",
    "        if 'Missing' in str(df.loc[i][j]):\n",
    "            missing_index.append([i,j])\n",
    "            \n",
    "print(missing_index)"
   ]
  },
  {
   "cell_type": "code",
   "execution_count": 233,
   "metadata": {},
   "outputs": [],
   "source": [
    "df2.loc[df2['tmax'].str.contains('Missing'), 'tmax'] = np.nan\n",
    "df2.loc[df2['tmin'].str.contains('Missing'), 'tmin'] = np.nan"
   ]
  },
  {
   "cell_type": "code",
   "execution_count": 243,
   "metadata": {},
   "outputs": [
    {
     "name": "stdout",
     "output_type": "stream",
     "text": [
      "10.03\n",
      "13.87\n",
      "17.60\n",
      "1.75\n"
     ]
    }
   ],
   "source": [
    "#interpolate method only works on float64 data\n",
    "cols = df2.columns\n",
    "\n",
    "#careful!!! we have to convert data types to float64 to work with interpolate\n",
    "\n",
    "for col in cols:\n",
    "    df2[col] = pd.to_numeric(df2[col], errors='coerce')\n",
    "    \n",
    "df2['tmax'] = df2['tmax'].interpolate()\n",
    "\n",
    "df2['tmin'] = df2['tmin'].interpolate()\n",
    "\n",
    "for r, c in missing_index:\n",
    "#     print(df2.loc[r][c])\n",
    "    print(\"%.2f\" % df2.loc[r][c])"
   ]
  },
  {
   "cell_type": "code",
   "execution_count": null,
   "metadata": {},
   "outputs": [],
   "source": []
  }
 ],
 "metadata": {
  "kernelspec": {
   "display_name": "Python 3",
   "language": "python",
   "name": "python3"
  },
  "language_info": {
   "codemirror_mode": {
    "name": "ipython",
    "version": 3
   },
   "file_extension": ".py",
   "mimetype": "text/x-python",
   "name": "python",
   "nbconvert_exporter": "python",
   "pygments_lexer": "ipython3",
   "version": "3.7.1"
  }
 },
 "nbformat": 4,
 "nbformat_minor": 2
}
