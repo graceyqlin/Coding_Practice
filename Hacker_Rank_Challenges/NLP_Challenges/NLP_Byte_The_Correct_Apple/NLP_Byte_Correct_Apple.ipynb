{
 "cells": [
  {
   "cell_type": "code",
   "execution_count": 100,
   "metadata": {},
   "outputs": [],
   "source": [
    "import pandas as pd\n",
    "import numpy as np\n",
    "\n",
    "from nltk import word_tokenize, sent_tokenize\n",
    "\n",
    "from sklearn.feature_extraction.text import TfidfVectorizer\n",
    "\n",
    "from sklearn.model_selection import train_test_split\n",
    "\n",
    "from sklearn.linear_model import LogisticRegression\n",
    "from sklearn.ensemble import RandomForestClassifier\n",
    "from sklearn.metrics import classification_report, accuracy_score"
   ]
  },
  {
   "cell_type": "code",
   "execution_count": 4,
   "metadata": {},
   "outputs": [],
   "source": [
    "with open('apple-computers.txt') as f:\n",
    "    apple_computers = f.read()"
   ]
  },
  {
   "cell_type": "code",
   "execution_count": 5,
   "metadata": {},
   "outputs": [],
   "source": [
    "with open('apple-fruit.txt') as f:\n",
    "    apple_fruit = f.read()"
   ]
  },
  {
   "cell_type": "code",
   "execution_count": 14,
   "metadata": {},
   "outputs": [
    {
     "data": {
      "text/plain": [
       "'Apple Inc. From Wikipedia, the free encyclopedia This article is about the technology company. For o'"
      ]
     },
     "execution_count": 14,
     "metadata": {},
     "output_type": "execute_result"
    }
   ],
   "source": [
    "apple_computers.replace('\\n', ' ')[:100]"
   ]
  },
  {
   "cell_type": "code",
   "execution_count": 30,
   "metadata": {},
   "outputs": [],
   "source": [
    "doc = []\n",
    "for line in open('apple-computers.txt', 'r'):\n",
    "    doc.append(line)"
   ]
  },
  {
   "cell_type": "code",
   "execution_count": 46,
   "metadata": {},
   "outputs": [],
   "source": [
    "\n",
    "apple_computer_list = [element.replace('\\t', '') for element in apple_computers.split('\\n') if element]\n",
    "\n",
    "apple_fruit_list = [element.replace('\\t', '') for element in apple_fruit.split('\\n') if element]"
   ]
  },
  {
   "cell_type": "code",
   "execution_count": 47,
   "metadata": {},
   "outputs": [
    {
     "data": {
      "text/plain": [
       "283"
      ]
     },
     "execution_count": 47,
     "metadata": {},
     "output_type": "execute_result"
    }
   ],
   "source": [
    "len(apple_computer_list)"
   ]
  },
  {
   "cell_type": "code",
   "execution_count": 48,
   "metadata": {},
   "outputs": [
    {
     "data": {
      "text/plain": [
       "187"
      ]
     },
     "execution_count": 48,
     "metadata": {},
     "output_type": "execute_result"
    }
   ],
   "source": [
    "len(apple_fruit_list)"
   ]
  },
  {
   "cell_type": "code",
   "execution_count": 77,
   "metadata": {},
   "outputs": [],
   "source": [
    "# Let's build a datafram where we assign apple_computer as 1 and apple_fruit as 0\n",
    "\n",
    "df = pd.DataFrame(apple_computer_list + apple_fruit_list)\n",
    "\n",
    "df = df.rename(columns = {df.columns[0]: 'text'})\n"
   ]
  },
  {
   "cell_type": "code",
   "execution_count": 78,
   "metadata": {},
   "outputs": [],
   "source": [
    "\n",
    "df.loc[df.index[:len(apple_computer_list)], 'label'] = 1\n",
    "\n",
    "\n",
    "df.loc[df.index[len(apple_computer_list):], 'label'] = 0\n"
   ]
  },
  {
   "cell_type": "code",
   "execution_count": 80,
   "metadata": {},
   "outputs": [
    {
     "data": {
      "text/html": [
       "<div>\n",
       "<style scoped>\n",
       "    .dataframe tbody tr th:only-of-type {\n",
       "        vertical-align: middle;\n",
       "    }\n",
       "\n",
       "    .dataframe tbody tr th {\n",
       "        vertical-align: top;\n",
       "    }\n",
       "\n",
       "    .dataframe thead th {\n",
       "        text-align: right;\n",
       "    }\n",
       "</style>\n",
       "<table border=\"1\" class=\"dataframe\">\n",
       "  <thead>\n",
       "    <tr style=\"text-align: right;\">\n",
       "      <th></th>\n",
       "      <th>text</th>\n",
       "      <th>label</th>\n",
       "    </tr>\n",
       "  </thead>\n",
       "  <tbody>\n",
       "    <tr>\n",
       "      <th>0</th>\n",
       "      <td>Apple Inc.</td>\n",
       "      <td>1.0</td>\n",
       "    </tr>\n",
       "    <tr>\n",
       "      <th>1</th>\n",
       "      <td>From Wikipedia, the free encyclopedia</td>\n",
       "      <td>1.0</td>\n",
       "    </tr>\n",
       "    <tr>\n",
       "      <th>2</th>\n",
       "      <td>This article is about the technology company. ...</td>\n",
       "      <td>1.0</td>\n",
       "    </tr>\n",
       "    <tr>\n",
       "      <th>3</th>\n",
       "      <td>Page semi-protected</td>\n",
       "      <td>1.0</td>\n",
       "    </tr>\n",
       "    <tr>\n",
       "      <th>4</th>\n",
       "      <td>Coordinates: 37.33182°N 122.03118°W</td>\n",
       "      <td>1.0</td>\n",
       "    </tr>\n",
       "  </tbody>\n",
       "</table>\n",
       "</div>"
      ],
      "text/plain": [
       "                                                text  label\n",
       "0                                         Apple Inc.    1.0\n",
       "1              From Wikipedia, the free encyclopedia    1.0\n",
       "2  This article is about the technology company. ...    1.0\n",
       "3                                Page semi-protected    1.0\n",
       "4                Coordinates: 37.33182°N 122.03118°W    1.0"
      ]
     },
     "execution_count": 80,
     "metadata": {},
     "output_type": "execute_result"
    }
   ],
   "source": [
    "df.head()"
   ]
  },
  {
   "cell_type": "code",
   "execution_count": 89,
   "metadata": {},
   "outputs": [],
   "source": [
    "df_train, df_validation = train_test_split(df, test_size=0.2, random_state=1)\n"
   ]
  },
  {
   "cell_type": "code",
   "execution_count": 86,
   "metadata": {},
   "outputs": [
    {
     "data": {
      "text/plain": [
       "(376, 2)"
      ]
     },
     "execution_count": 86,
     "metadata": {},
     "output_type": "execute_result"
    }
   ],
   "source": [
    "df_train.shape"
   ]
  },
  {
   "cell_type": "code",
   "execution_count": 87,
   "metadata": {},
   "outputs": [
    {
     "data": {
      "text/plain": [
       "(94, 2)"
      ]
     },
     "execution_count": 87,
     "metadata": {},
     "output_type": "execute_result"
    }
   ],
   "source": [
    "df_test.shape"
   ]
  },
  {
   "cell_type": "code",
   "execution_count": 90,
   "metadata": {},
   "outputs": [],
   "source": [
    "X_train = df_train['text']\n",
    "y_train = df_train['label']\n",
    "\n",
    "X_validation = df_validation['text']\n",
    "y_validation = df_validation['label']"
   ]
  },
  {
   "cell_type": "code",
   "execution_count": 91,
   "metadata": {},
   "outputs": [
    {
     "data": {
      "text/plain": [
       "TfidfVectorizer(analyzer='word', binary=False, decode_error='strict',\n",
       "        dtype=<class 'numpy.float64'>, encoding='utf-8', input='content',\n",
       "        lowercase=True, max_df=1.0, max_features=None, min_df=1,\n",
       "        ngram_range=(1, 1), norm='l2', preprocessor=None, smooth_idf=True,\n",
       "        stop_words='english', strip_accents=None, sublinear_tf=False,\n",
       "        token_pattern='(?u)\\\\b\\\\w\\\\w+\\\\b', tokenizer=None, use_idf=True,\n",
       "        vocabulary=None)"
      ]
     },
     "execution_count": 91,
     "metadata": {},
     "output_type": "execute_result"
    }
   ],
   "source": [
    "\n",
    "vectorizer = TfidfVectorizer(stop_words= 'english')\n",
    "vectorizer.fit(X_train)\n"
   ]
  },
  {
   "cell_type": "code",
   "execution_count": 92,
   "metadata": {},
   "outputs": [],
   "source": [
    "X_train_tfidf = vectorizer.transform(X_train)\n",
    "X_validation_tfidf = vectorizer.transform(X_validation)"
   ]
  },
  {
   "cell_type": "code",
   "execution_count": 97,
   "metadata": {},
   "outputs": [],
   "source": [
    "y_train = np.array(y_train).reshape(-1,1).ravel()\n",
    "y_validation = np.array(y_validation).reshape(-1,1).ravel()\n"
   ]
  },
  {
   "cell_type": "code",
   "execution_count": 101,
   "metadata": {},
   "outputs": [],
   "source": [
    "def training(classifier, X_train, X_validation, y_train, y_validation):\n",
    "    model = classifier\n",
    "    model.fit(X_train, y_train)\n",
    "    y_validation_predict = model.predict(X_validation)\n",
    "    report = classification_report(y_validation, y_validation_predict)\n",
    "    print(report)\n",
    "    return model\n",
    "    "
   ]
  },
  {
   "cell_type": "code",
   "execution_count": 103,
   "metadata": {},
   "outputs": [
    {
     "name": "stdout",
     "output_type": "stream",
     "text": [
      "              precision    recall  f1-score   support\n",
      "\n",
      "         0.0       1.00      0.68      0.81        40\n",
      "         1.0       0.81      1.00      0.89        54\n",
      "\n",
      "   micro avg       0.86      0.86      0.86        94\n",
      "   macro avg       0.90      0.84      0.85        94\n",
      "weighted avg       0.89      0.86      0.86        94\n",
      "\n"
     ]
    },
    {
     "name": "stderr",
     "output_type": "stream",
     "text": [
      "/Users/lin/anaconda3/lib/python3.7/site-packages/sklearn/linear_model/logistic.py:433: FutureWarning: Default solver will be changed to 'lbfgs' in 0.22. Specify a solver to silence this warning.\n",
      "  FutureWarning)\n"
     ]
    },
    {
     "data": {
      "text/plain": [
       "LogisticRegression(C=1.0, class_weight=None, dual=False, fit_intercept=True,\n",
       "          intercept_scaling=1, max_iter=100, multi_class='warn',\n",
       "          n_jobs=None, penalty='l2', random_state=None, solver='warn',\n",
       "          tol=0.0001, verbose=0, warm_start=False)"
      ]
     },
     "execution_count": 103,
     "metadata": {},
     "output_type": "execute_result"
    }
   ],
   "source": [
    "training(LogisticRegression(), X_train_tfidf, X_validation_tfidf, y_train, y_validation)"
   ]
  },
  {
   "cell_type": "code",
   "execution_count": 104,
   "metadata": {},
   "outputs": [
    {
     "name": "stdout",
     "output_type": "stream",
     "text": [
      "              precision    recall  f1-score   support\n",
      "\n",
      "         0.0       0.92      0.55      0.69        40\n",
      "         1.0       0.74      0.96      0.84        54\n",
      "\n",
      "   micro avg       0.79      0.79      0.79        94\n",
      "   macro avg       0.83      0.76      0.76        94\n",
      "weighted avg       0.82      0.79      0.77        94\n",
      "\n"
     ]
    },
    {
     "name": "stderr",
     "output_type": "stream",
     "text": [
      "/Users/lin/anaconda3/lib/python3.7/site-packages/sklearn/ensemble/forest.py:246: FutureWarning: The default value of n_estimators will change from 10 in version 0.20 to 100 in 0.22.\n",
      "  \"10 in version 0.20 to 100 in 0.22.\", FutureWarning)\n"
     ]
    },
    {
     "data": {
      "text/plain": [
       "RandomForestClassifier(bootstrap=True, class_weight=None, criterion='gini',\n",
       "            max_depth=None, max_features='auto', max_leaf_nodes=None,\n",
       "            min_impurity_decrease=0.0, min_impurity_split=None,\n",
       "            min_samples_leaf=1, min_samples_split=2,\n",
       "            min_weight_fraction_leaf=0.0, n_estimators=10, n_jobs=None,\n",
       "            oob_score=False, random_state=None, verbose=0,\n",
       "            warm_start=False)"
      ]
     },
     "execution_count": 104,
     "metadata": {},
     "output_type": "execute_result"
    }
   ],
   "source": [
    "training(RandomForestClassifier(), X_train_tfidf, X_validation_tfidf, y_train, y_validation)"
   ]
  },
  {
   "cell_type": "code",
   "execution_count": 112,
   "metadata": {
    "scrolled": true
   },
   "outputs": [
    {
     "name": "stdout",
     "output_type": "stream",
     "text": [
      "              precision    recall  f1-score   support\n",
      "\n",
      "         0.0       1.00      0.68      0.81        40\n",
      "         1.0       0.81      1.00      0.89        54\n",
      "\n",
      "   micro avg       0.86      0.86      0.86        94\n",
      "   macro avg       0.90      0.84      0.85        94\n",
      "weighted avg       0.89      0.86      0.86        94\n",
      "\n"
     ]
    }
   ],
   "source": [
    "best_model = training(LogisticRegression(), X_train_tfidf, X_validation_tfidf, y_train, y_validation)"
   ]
  },
  {
   "cell_type": "markdown",
   "metadata": {},
   "source": [
    "### Try it on the test data"
   ]
  },
  {
   "cell_type": "code",
   "execution_count": 107,
   "metadata": {},
   "outputs": [],
   "source": [
    "doc = []\n",
    "for line in open('input00.txt', 'r'):\n",
    "    doc.append(line.replace('\\n', '').replace('\\t', ''))"
   ]
  },
  {
   "cell_type": "code",
   "execution_count": 109,
   "metadata": {},
   "outputs": [],
   "source": [
    "doc = doc[1:]"
   ]
  },
  {
   "cell_type": "code",
   "execution_count": 124,
   "metadata": {},
   "outputs": [
    {
     "data": {
      "text/plain": [
       "[\"Apple already plans to buy back $100 billion in shares, including $16 billion worth last quarter. Icahn probably pounded the dinner table he and Cook shared recently for their much-reported bread-breaking at Icahn's New York apartment. Apple's cash stash currently sits at a whopping $145 billion but only $43 billion is in the U.S., which is why Icahn wants to float bonds to cover a buy back.\",\n",
       " 'Fortunately, there are ���low-chill��� apple varieties for temperate climates. (Chilling hours are defined as nonconsecutive hours of winter temperatures below 45 degrees.) As a general guide, if you live on or near the coast, your garden gets only 100 to 200 chilling hours. Inland San Diego gardens get about 400 to 500 chilling hours ��� still considered ���low chill.���',\n",
       " 'If this seems a bit like d��j�� vu, you���ll recall that Apple just held an event to unveil two new iPhone models ��� the 5c and 5s ��� back on September 10.',\n",
       " '���Both Samsung and Apple are important contributors to the U.S. economy and help advance innovation and technological progress,��� the trade representative said as part of its statement.',\n",
       " \"Icahn says he has claimed a sizeable stake in Apple, and he wants Cook to take advantage of low interest rates to issue bonds to finance the additional buyback. While Icahn is wont to wax aimlessly on CNBC about what a great company Apple is and how loyal its customers are, the activist investor probably does not care about Apple employees or the future of the Cupertino, Calif., company. He's looking for a quick killing before he's on to the next thing, which is what he does.\",\n",
       " \"This ingredient can be used the same way as other vinegars ��� it's great as a component of homemade salad dressings, for example. But some people get a bit more extreme than that, drinking it as a tonic or even taking it straight because of its purported health effects. Some of the claims of the ingredient's benefits are overblown, but there are still many reasons to bring a bottle of apple cider vinegar into your pantry. Here are 12 of them, from the top of your head to Fido's furry paws.\",\n",
       " 'Ursolic acid - a waxy substance found in apple peel - increases muscle and brown fat in mice that are on a high-fat diet.',\n",
       " 'Apples are known to contain pectin, a soluble fiber. They also have insoluble fiber. Increased fiber intake has been linked with improvements in blood lipid levels. Eating a medium-sized apple, with the skin, provides about 4 grams of fiber.',\n",
       " 'Most of the fibre in apples comes from the skin and the pulp. When you remove the skin, you remove about half the fibre. A medium apple with skin contains 3.3 grams of fibre, whereas a medium without skin has only 1.7 grams. Apple-sauce and apple juice contain even less. Dietary fibre is important for weight management, because it keeps you fuller longer. Dietary fibre from fruit, as part of an overall healthful diet, helps reduce blood cholesterol levels and might lower the risk of heart disease, obesity and Type 2 diabetes. Plus, fibre aids in proper bowel function and helps to reduce constipation.',\n",
       " 'The fifth-generation iPad is expected to feature a thinner, lighter design akin to the iPad mini���s, and an improved camera. It will run Apple���s new 64-bit A7 chip. The second-generation iPad mini will be upgraded with a retina display and also likely see the A7 incorporated into its innards. It���s not clear whether Apple���s new iPads will feature the Touch ID fingerprint sensor that recently debuted on the iPhone 5s, though that has been rumored.']"
      ]
     },
     "execution_count": 124,
     "metadata": {},
     "output_type": "execute_result"
    }
   ],
   "source": [
    "doc"
   ]
  },
  {
   "cell_type": "code",
   "execution_count": 123,
   "metadata": {},
   "outputs": [
    {
     "name": "stdout",
     "output_type": "stream",
     "text": [
      "computer-company\n",
      "computer-company\n",
      "computer-company\n",
      "computer-company\n",
      "computer-company\n",
      "computer-company\n",
      "computer-company\n",
      "fruit\n",
      "fruit\n",
      "computer-company\n"
     ]
    }
   ],
   "source": [
    "for query in doc:\n",
    "    query_tfidf = vectorizer.transform([query])\n",
    "    label = best_model.predict(query_tfidf)\n",
    "    if label == 1:\n",
    "        print('computer-company')\n",
    "    else:\n",
    "        print('fruit')"
   ]
  },
  {
   "cell_type": "code",
   "execution_count": 125,
   "metadata": {},
   "outputs": [
    {
     "name": "stdout",
     "output_type": "stream",
     "text": [
      "computer-company\n",
      "computer-company\n",
      "computer-company\n",
      "computer-company\n",
      "computer-company\n",
      "computer-company\n",
      "computer-company\n",
      "fruit\n",
      "fruit\n",
      "computer-company\n"
     ]
    },
    {
     "name": "stderr",
     "output_type": "stream",
     "text": [
      "/Users/lin/anaconda3/lib/python3.7/site-packages/sklearn/linear_model/logistic.py:433: FutureWarning: Default solver will be changed to 'lbfgs' in 0.22. Specify a solver to silence this warning.\n",
      "  FutureWarning)\n"
     ]
    }
   ],
   "source": [
    "# Combine\n",
    "\n",
    "import pandas as pd\n",
    "import numpy as np\n",
    "\n",
    "from nltk import word_tokenize, sent_tokenize\n",
    "\n",
    "from sklearn.feature_extraction.text import TfidfVectorizer\n",
    "\n",
    "from sklearn.model_selection import train_test_split\n",
    "\n",
    "from sklearn.linear_model import LogisticRegression\n",
    "from sklearn.ensemble import RandomForestClassifier\n",
    "from sklearn.metrics import classification_report, accuracy_score\n",
    "\n",
    "with open('apple-computers.txt') as f:\n",
    "    apple_computers = f.read()\n",
    "    \n",
    "with open('apple-fruit.txt') as f:\n",
    "    apple_fruit = f.read()\n",
    "\n",
    "\n",
    "apple_computer_list = [element.replace('\\t', '') for element in apple_computers.split('\\n') if element]\n",
    "\n",
    "apple_fruit_list = [element.replace('\\t', '') for element in apple_fruit.split('\\n') if element]\n",
    "\n",
    "# Let's build a datafram where we assign apple_computer as 1 and apple_fruit as 0\n",
    "\n",
    "df = pd.DataFrame(apple_computer_list + apple_fruit_list)\n",
    "\n",
    "df = df.rename(columns = {df.columns[0]: 'text'})\n",
    "\n",
    "\n",
    "df.loc[df.index[:len(apple_computer_list)], 'label'] = 1\n",
    "\n",
    "\n",
    "df.loc[df.index[len(apple_computer_list):], 'label'] = 0\n",
    "\n",
    "df_train, df_validation = train_test_split(df, test_size=0.2, random_state=1)\n",
    "\n",
    "\n",
    "X_train = df_train['text']\n",
    "y_train = df_train['label']\n",
    "\n",
    "X_validation = df_validation['text']\n",
    "y_validation = df_validation['label']\n",
    "\n",
    "\n",
    "vectorizer = TfidfVectorizer(stop_words= 'english')\n",
    "vectorizer.fit(X_train)\n",
    "\n",
    "X_train_tfidf = vectorizer.transform(X_train)\n",
    "X_validation_tfidf = vectorizer.transform(X_validation)\n",
    "\n",
    "y_train = np.array(y_train).reshape(-1,1).ravel()\n",
    "y_validation = np.array(y_validation).reshape(-1,1).ravel()\n",
    "\n",
    "def training(classifier, X_train, X_validation, y_train, y_validation):\n",
    "    model = classifier\n",
    "    model.fit(X_train, y_train)\n",
    "    y_validation_predict = model.predict(X_validation)\n",
    "    report = classification_report(y_validation, y_validation_predict)\n",
    "#     print(report)\n",
    "    return model\n",
    "\n",
    "best_model = training(LogisticRegression(), X_train_tfidf, X_validation_tfidf, y_train, y_validation)\n",
    "\n",
    "doc = []\n",
    "for line in open('input00.txt', 'r'):\n",
    "    doc.append(line.replace('\\n', '').replace('\\t', ''))\n",
    "    \n",
    "doc = doc[1:]\n",
    "\n",
    "for query in doc:\n",
    "    query_tfidf = vectorizer.transform([query])\n",
    "    label = best_model.predict(query_tfidf)\n",
    "    if label == 1:\n",
    "        print('computer-company')\n",
    "    else:\n",
    "        print('fruit')\n"
   ]
  },
  {
   "cell_type": "code",
   "execution_count": null,
   "metadata": {},
   "outputs": [],
   "source": []
  }
 ],
 "metadata": {
  "kernelspec": {
   "display_name": "Python 3",
   "language": "python",
   "name": "python3"
  },
  "language_info": {
   "codemirror_mode": {
    "name": "ipython",
    "version": 3
   },
   "file_extension": ".py",
   "mimetype": "text/x-python",
   "name": "python",
   "nbconvert_exporter": "python",
   "pygments_lexer": "ipython3",
   "version": "3.7.1"
  }
 },
 "nbformat": 4,
 "nbformat_minor": 2
}
