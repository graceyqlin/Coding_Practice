{
 "cells": [
  {
   "cell_type": "markdown",
   "metadata": {},
   "source": [
    "https://www.hackerrank.com/challenges/a-text-processing-warmup/problem"
   ]
  },
  {
   "cell_type": "code",
   "execution_count": 1,
   "metadata": {},
   "outputs": [],
   "source": [
    "import numpy as np\n",
    "import pandas as pd"
   ]
  },
  {
   "cell_type": "markdown",
   "metadata": {},
   "source": [
    "This problem will help you warm up and practice basic text and string processing techniques. This will be a first step towards more complex Text and Natural Language Processing and Analysis tasks.\n",
    "\n",
    "You will be given a fragment of text.\n",
    "\n",
    "In this fragment, you need to identify the articles used (i.e., 'a', 'an', 'the').\n",
    "\n",
    "And you also need to identify dates (which might be expressed in a variety of ways such as '15/11/2012','15/11/12', '15th March 1999','15th March 99' or '20th of March, 1999').\n",
    "\n",
    "You can make the following assumptions 1) In the date, year and day will always be in numeric form. Which means, you don't have to worry about \"fifteenth\" or \"twentieth\" etc. Month, could be either numeric form (1-12) or with its name (January-December, Jan-Dec).\n",
    "\n",
    "2) This is a bit open ended, and somewhat intentionally so. The aim is for you to try to write something which figures out as many common patterns as possible, in which dates are present in text.\n",
    "\n",
    "3) Most of the test cases are Wikipedia articles. Having a look at the common formats in which dates occur in those, will help.\n",
    "\n",
    "4) Dates could either be in the form: Month followed by Day followed by Year, or Day followed by Month followed by Year.\n",
    "\n",
    "5) The day could be in the form of either (1,2,3,...31) or (1st, 2nd, 3rd...31st).\n",
    "\n",
    "A fragment is a valid date if it contains day, month and year information (all three of them should be present). To extract date information, you will need to try detecting different kinds of representations of dates, some of which have been shown above. The more patterns you match and identify correctly, the greater your score will be.\n",
    "\n",
    "Input Format\n",
    "\n",
    "First line contains the number of test cases T. This is followed by T test fragments (each fragment will be in one line and each will have a blank line after it) . Each line contains a paragraph of text in which you need to identify the articles and dates. There will be a blank line after each paragraph.\n",
    "\n",
    "So, totally there are 2T+1 lines in the input file. The last one is a blank line after the last text fragment.\n",
    "\n",
    "Output Format\n",
    "\n",
    "4T lines, four lines of output for each test case. First line -> number of occurrences of 'a'. Second line -> number of occurrences of 'an'. Third Line -> number of occurrences of 'the'. Fourth Line -> number of occurrences of date information."
   ]
  },
  {
   "cell_type": "code",
   "execution_count": 41,
   "metadata": {},
   "outputs": [],
   "source": [
    "df = pd.read_fwf('input00.txt', header = None)"
   ]
  },
  {
   "cell_type": "code",
   "execution_count": 51,
   "metadata": {},
   "outputs": [],
   "source": [
    "df = df[~df[0].isnull()][[0]][1:].reset_index(drop = True)"
   ]
  },
  {
   "cell_type": "code",
   "execution_count": 52,
   "metadata": {},
   "outputs": [
    {
     "data": {
      "text/html": [
       "<div>\n",
       "<style scoped>\n",
       "    .dataframe tbody tr th:only-of-type {\n",
       "        vertical-align: middle;\n",
       "    }\n",
       "\n",
       "    .dataframe tbody tr th {\n",
       "        vertical-align: top;\n",
       "    }\n",
       "\n",
       "    .dataframe thead th {\n",
       "        text-align: right;\n",
       "    }\n",
       "</style>\n",
       "<table border=\"1\" class=\"dataframe\">\n",
       "  <thead>\n",
       "    <tr style=\"text-align: right;\">\n",
       "      <th></th>\n",
       "      <th>0</th>\n",
       "    </tr>\n",
       "  </thead>\n",
       "  <tbody>\n",
       "    <tr>\n",
       "      <th>0</th>\n",
       "      <td>Delhi, is a metropolitan and the capital regio...</td>\n",
       "    </tr>\n",
       "    <tr>\n",
       "      <th>1</th>\n",
       "      <td>Mumbai, also known as Bombay, is the capital c...</td>\n",
       "    </tr>\n",
       "    <tr>\n",
       "      <th>2</th>\n",
       "      <td>New York is a state in the Northeastern region...</td>\n",
       "    </tr>\n",
       "    <tr>\n",
       "      <th>3</th>\n",
       "      <td>The Indian Rebellion of 1857 began as a mutiny...</td>\n",
       "    </tr>\n",
       "    <tr>\n",
       "      <th>4</th>\n",
       "      <td>The Boston Tea Party (referred to in its time ...</td>\n",
       "    </tr>\n",
       "  </tbody>\n",
       "</table>\n",
       "</div>"
      ],
      "text/plain": [
       "                                                   0\n",
       "0  Delhi, is a metropolitan and the capital regio...\n",
       "1  Mumbai, also known as Bombay, is the capital c...\n",
       "2  New York is a state in the Northeastern region...\n",
       "3  The Indian Rebellion of 1857 began as a mutiny...\n",
       "4  The Boston Tea Party (referred to in its time ..."
      ]
     },
     "execution_count": 52,
     "metadata": {},
     "output_type": "execute_result"
    }
   ],
   "source": [
    "df"
   ]
  },
  {
   "cell_type": "code",
   "execution_count": 58,
   "metadata": {},
   "outputs": [
    {
     "name": "stdout",
     "output_type": "stream",
     "text": [
      "1\n",
      "0\n",
      "4\n",
      "1\n",
      "0\n",
      "5\n",
      "1\n",
      "0\n",
      "6\n",
      "1\n",
      "0\n",
      "4\n",
      "3\n",
      "0\n",
      "4\n"
     ]
    }
   ],
   "source": [
    "import collections\n",
    "\n",
    "for document in df[0]:   \n",
    "    counter = collections.Counter([i.lower() for i in document.split(' ')])\n",
    "    a_cnt = counter['a']\n",
    "    an_cnt = counter['an']\n",
    "    the_cnt = counter['the']\n",
    "    print(a_cnt)\n",
    "    print(an_cnt)\n",
    "    print(the_cnt)"
   ]
  },
  {
   "cell_type": "code",
   "execution_count": 60,
   "metadata": {},
   "outputs": [
    {
     "data": {
      "text/plain": [
       "'New York is a state in the Northeastern region of the United States. New York is the 27th-most extensive, the 3rd-most populous, and the 7th-most densely populated of the 50 United States.'"
      ]
     },
     "execution_count": 60,
     "metadata": {},
     "output_type": "execute_result"
    }
   ],
   "source": [
    "df[0][2]"
   ]
  },
  {
   "cell_type": "code",
   "execution_count": 62,
   "metadata": {},
   "outputs": [
    {
     "data": {
      "text/plain": [
       "\"The Indian Rebellion of 1857 began as a mutiny of sepoys of the East India Company's army on 10 May 1857, in the town of Meerut, and soon escalated into other mutinies and civilian rebellions largely in the upper Gangetic plain and central India,\""
      ]
     },
     "execution_count": 62,
     "metadata": {},
     "output_type": "execute_result"
    }
   ],
   "source": [
    "df[0][3]"
   ]
  },
  {
   "cell_type": "code",
   "execution_count": 65,
   "metadata": {},
   "outputs": [
    {
     "name": "stdout",
     "output_type": "stream",
     "text": [
      "0\n",
      "0\n",
      "0\n",
      "1\n",
      "0\n"
     ]
    }
   ],
   "source": [
    "month_list = ['jan', 'feb', 'mar', 'apr', 'may', 'jun', 'jul', 'aug', 'sep', 'oct', 'nov', 'dec', \n",
    "              'january', 'feburary', 'march', 'april', 'june', 'july', 'august', 'september', 'october', 'november', 'december']\n",
    "\n",
    "for document in df[0]:\n",
    "    words = [i.lower() for i in document.split(\" \")]\n",
    "    counter = collections.Counter(words)\n",
    "    date_cnt = 0\n",
    "    \n",
    "    for month in month_list:\n",
    "        date_cnt += counter[month]\n",
    "    \n",
    "    print(date_cnt)"
   ]
  },
  {
   "cell_type": "code",
   "execution_count": 69,
   "metadata": {},
   "outputs": [
    {
     "data": {
      "text/plain": [
       "'Delhi, is a metropolitan and the capital region of India which includes the national capital city, New Delhi. It is the second most populous metropolis in India after Mumbai and the largest city in terms of area.'"
      ]
     },
     "execution_count": 69,
     "metadata": {},
     "output_type": "execute_result"
    }
   ],
   "source": [
    "t1 = df[0][0]\n",
    "t1"
   ]
  },
  {
   "cell_type": "code",
   "execution_count": 85,
   "metadata": {},
   "outputs": [],
   "source": [
    "t2 = '5a5'"
   ]
  },
  {
   "cell_type": "code",
   "execution_count": 89,
   "metadata": {},
   "outputs": [
    {
     "data": {
      "text/plain": [
       "[' the ', ' the ', ' the ', ' the ']"
      ]
     },
     "execution_count": 89,
     "metadata": {},
     "output_type": "execute_result"
    }
   ],
   "source": [
    "import re\n",
    "re.findall(\"[^a-z]the[^a-z]\", t1)\n",
    "# [] means find individual elements, - means from a to z, ^ means other than. together it means there has to be \n",
    "#  something in front of \"the\" and it cannot be alpha (so in this case a space in the front)\n",
    "# similarily, there has to be a space after \"the\"\n"
   ]
  },
  {
   "cell_type": "code",
   "execution_count": 86,
   "metadata": {},
   "outputs": [
    {
     "data": {
      "text/plain": [
       "['5a5']"
      ]
     },
     "execution_count": 86,
     "metadata": {},
     "output_type": "execute_result"
    }
   ],
   "source": [
    "re.findall(\"[^a-z]a[^a-z]\", t2)"
   ]
  },
  {
   "cell_type": "code",
   "execution_count": 90,
   "metadata": {},
   "outputs": [],
   "source": [
    "a_cnt = re.findall(\"[^a-z]a[^a-z]\", t1)\n",
    "an_cnt = re.findall(\"[^a-z]an[^a-z]\", t1)\n",
    "the_cnt = re.findall(\"[^a-z]the[^a-z]\", t1)"
   ]
  },
  {
   "cell_type": "code",
   "execution_count": 93,
   "metadata": {},
   "outputs": [
    {
     "data": {
      "text/plain": [
       "\"The Indian Rebellion of 1857 began as a mutiny of sepoys of the East India Company's army on 10 May 1857, in the town of Meerut, and soon escalated into other mutinies and civilian rebellions largely in the upper Gangetic plain and central India,\""
      ]
     },
     "execution_count": 93,
     "metadata": {},
     "output_type": "execute_result"
    }
   ],
   "source": [
    "t3 = df[0][3]\n",
    "t3"
   ]
  },
  {
   "cell_type": "code",
   "execution_count": 94,
   "metadata": {},
   "outputs": [
    {
     "data": {
      "text/plain": [
       "[]"
      ]
     },
     "execution_count": 94,
     "metadata": {},
     "output_type": "execute_result"
    }
   ],
   "source": [
    "re.findall(\"[0-3]?[0-9][ /,\\-]{1,2}[01]?[0-9][ /,\\-]{1,2}\\d{2,4}\", t3)\n",
    "\n"
   ]
  },
  {
   "cell_type": "code",
   "execution_count": 95,
   "metadata": {},
   "outputs": [
    {
     "name": "stdout",
     "output_type": "stream",
     "text": [
      "re.compile('[0-3]?')\n"
     ]
    }
   ],
   "source": [
    "temp = re.compile('[0-3]?')\n",
    "print(temp)"
   ]
  },
  {
   "cell_type": "code",
   "execution_count": 96,
   "metadata": {},
   "outputs": [
    {
     "data": {
      "text/plain": [
       "re.compile(r'ab*', re.UNICODE)"
      ]
     },
     "execution_count": 96,
     "metadata": {},
     "output_type": "execute_result"
    }
   ],
   "source": [
    "p = re.compile('ab*')\n",
    "p "
   ]
  },
  {
   "cell_type": "code",
   "execution_count": 128,
   "metadata": {},
   "outputs": [
    {
     "data": {
      "text/plain": [
       "['4/28/1991', '5-28-1991', '88/28/1991', '12-19-1993']"
      ]
     },
     "execution_count": 128,
     "metadata": {},
     "output_type": "execute_result"
    }
   ],
   "source": [
    "t5 = '4/28/1991 5-28-1991 88/28/1991 12-19-1993'\n",
    "\n",
    "re.findall(\"[0-2]?[0-9][ /,\\-]{1,2}[01]?[0-9][ /,\\-]{1,2}[0-9]{2,4}\", t5)\n",
    "\n",
    "\n",
    "\n",
    "#? means  ?, matches either once or zero times; you can think of it as marking something as being optional.\n",
    "# [0-3]?[0-9] means 00, 01, ...30, and does not have anything from [0-3], which is only 0, 1, ... 9\n",
    "\n",
    "#[/, \\-] means the number is followed by / or -. \\ is an escape so we just want to get -.\n",
    "\n",
    "#{1,2} means the character in front of it has to repeat minimal 1 times and maximual 2 times. so / or , or - has to repeat\n",
    "# at least 1 and at most 2 times\n",
    "\n",
    "#simiplied way to write it: we just want to have three numbers for day, month, and year. each number we \n",
    "# can have 1-4 digits, they can be seperated by one or two / or -. for example: mm/dd/yy, mm-dd-yy, dd/mm/yyy\n",
    "\n",
    "re.findall(\"[0-9]{1,4}[ /,\\-]{1,2}[0-9]{1,4}[ /,\\-]{1,2}[0-9]{1,4}\", t5)"
   ]
  },
  {
   "cell_type": "code",
   "execution_count": 11,
   "metadata": {},
   "outputs": [
    {
     "data": {
      "text/plain": [
       "['16th', '03st']"
      ]
     },
     "execution_count": 11,
     "metadata": {},
     "output_type": "execute_result"
    }
   ],
   "source": [
    "import re \n",
    "t6 = '16th-03st-1991'\n",
    "re.findall(\"[0-3]?[0-9](st|nd|rd)?[ /,\\-]{1,2}[01]?[0-9][ /,\\-]{1,2}\\d{2,4}\", t6)\n",
    "\n",
    "re.findall(\"(?:[0-3]?[0-9])(?:th|st|nd|rd)\", t6)\n",
    "\n",
    "# re.findall(\"[0-9]{1,2}[st,nd,rd]?[ /,\\-]{0,2}[0-9]{1,4}[ /,\\-]{1,2}[0-9]{2,4}\", t6)\n",
    "\n",
    "# re.findall(\"[0-9]{1,2}[st,nd,rd]?[ /,\\-]{0,2}[0-9]{1,4}[ /,\\-]{1,2}[0-9]{2,4}\", t6)\n"
   ]
  },
  {
   "cell_type": "markdown",
   "metadata": {},
   "source": [
    "t7 = '17th Jan, 2019'\n",
    "re.findall(\"[0-9]{1,2}(st|nd|rd)?(Jan(uary)?|Feb(ruary)?|Mar(ch)?|Apr(il)?|May|Jun(e)?|Jul(y)?|Aug(ust)?|Sep(tember)?|Oct(ober)?|Nov(ember)?|Dec(ember)?)[ /,\\-]{0,2}[0-9]{2,4}\", t7)"
   ]
  },
  {
   "cell_type": "code",
   "execution_count": 187,
   "metadata": {},
   "outputs": [
    {
     "data": {
      "text/plain": [
       "['jan']"
      ]
     },
     "execution_count": 187,
     "metadata": {},
     "output_type": "execute_result"
    }
   ],
   "source": [
    "t7 = '17th jan, 2019'\n",
    "re.findall(\"[0-9]{1,2}(th|st|nd|rd)?\", t7)\n",
    "\n",
    "re.findall(\"[0-9][0-9](?:th|rd|nd|st)?\\s+(jan)?\", t7)"
   ]
  },
  {
   "cell_type": "code",
   "execution_count": null,
   "metadata": {},
   "outputs": [],
   "source": []
  }
 ],
 "metadata": {
  "kernelspec": {
   "display_name": "Python 3",
   "language": "python",
   "name": "python3"
  },
  "language_info": {
   "codemirror_mode": {
    "name": "ipython",
    "version": 3
   },
   "file_extension": ".py",
   "mimetype": "text/x-python",
   "name": "python",
   "nbconvert_exporter": "python",
   "pygments_lexer": "ipython3",
   "version": "3.7.1"
  }
 },
 "nbformat": 4,
 "nbformat_minor": 2
}
