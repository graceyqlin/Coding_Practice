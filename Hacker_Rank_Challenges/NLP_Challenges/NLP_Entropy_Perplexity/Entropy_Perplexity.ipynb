{
 "cells": [
  {
   "cell_type": "markdown",
   "metadata": {},
   "source": [
    "https://www.hackerrank.com/challenges/nlp-compute-the-cross-entropy/problem"
   ]
  },
  {
   "cell_type": "markdown",
   "metadata": {},
   "source": [
    "**Perplexity:**\n",
    "\n",
    "In information theory, perplexity is a measurement of how well a probability distribution or probability model predicts a sample. It may be used to compare probability models. A low perplexity indicates the probability distribution is good at predicting the sample.\n",
    "\n",
    "The perplexity PP of a discrete probability distribution p is defined as\n",
    "\n",
    "PP = 2^Entropy\n",
    "\n",
    "PP is an intrinsic evaluation. It's a bad approximation unless the test data is very similar to training data. Only useful in pilot experiments. But it's helpful to think about. "
   ]
  },
  {
   "cell_type": "markdown",
   "metadata": {},
   "source": [
    "**Questions:**\n",
    "\n",
    "The perplexity of a bigram model is 170. Compute its cross-entropy corrected to 2 decimal places.\n",
    "\n",
    "You may either submit the final answer in the plain-text mode, or you may submit a program in the language of your choice to compute the required value.\n",
    "\n",
    "Your answer should look like this:\n",
    "\n",
    "5.50  "
   ]
  },
  {
   "cell_type": "code",
   "execution_count": 1,
   "metadata": {},
   "outputs": [
    {
     "name": "stdout",
     "output_type": "stream",
     "text": [
      "7.41\n"
     ]
    }
   ],
   "source": [
    "from math import log\n",
    "\n",
    "print (\"%.2f\" % log(170,2))"
   ]
  },
  {
   "cell_type": "markdown",
   "metadata": {},
   "source": [
    "**Questions:**\n",
    "\n",
    "The cross-entropy of a unigram model is 9.91. What is its perplexity?"
   ]
  },
  {
   "cell_type": "code",
   "execution_count": 2,
   "metadata": {},
   "outputs": [
    {
     "name": "stdout",
     "output_type": "stream",
     "text": [
      "962.07\n"
     ]
    }
   ],
   "source": [
    "print (\"%.2f\" % 2**9.91)"
   ]
  },
  {
   "cell_type": "code",
   "execution_count": null,
   "metadata": {},
   "outputs": [],
   "source": []
  }
 ],
 "metadata": {
  "kernelspec": {
   "display_name": "Python 3",
   "language": "python",
   "name": "python3"
  },
  "language_info": {
   "codemirror_mode": {
    "name": "ipython",
    "version": 3
   },
   "file_extension": ".py",
   "mimetype": "text/x-python",
   "name": "python",
   "nbconvert_exporter": "python",
   "pygments_lexer": "ipython3",
   "version": "3.7.1"
  }
 },
 "nbformat": 4,
 "nbformat_minor": 2
}
