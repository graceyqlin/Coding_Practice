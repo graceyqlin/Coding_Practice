{
 "cells": [
  {
   "cell_type": "markdown",
   "metadata": {},
   "source": [
    "https://www.hackerrank.com/challenges/punctuation-corrector-its/problem"
   ]
  },
  {
   "cell_type": "markdown",
   "metadata": {},
   "source": [
    "In a world which survives on food, water, oxygen and text messages; we notice that people often don't bother much about punctuation and grammar in their text messages. This is somewhat understandable, partly because every extra keystroke on a miniature keypad takes a lot more work than it would take on a laptop or a desktop.\n",
    "\n",
    "We'd like to build a small sub-feature of a punctuation corrector which can handle one small but specific, and frequent issue: detecting (and correcting) whether the appropriate form of the word ought to be \"its\" or \"it's\" - a common point of confusion in general.\n",
    "\n",
    "It's is the contraction of \"it is\" and \"it has.\"  \n",
    "Its is a possessive form - i.e., it shows ownership.  \n",
    "You are given sentences which contain one or more occurrences of either 'its' or 'it's'. These occurrences have been replaced by three question marks (???). Display with correct form of the sentence, with the question marks replaced by either 'it's' or 'its', as appropriate.\n",
    "\n",
    "Input Format\n",
    "The first line contains an integer N, 1<=N<=200.\n",
    "This is followed by N lines, each containing 1 sentence, with not more than a total of 300 characters. The occurrences of 'it's' and 'its' have been replaced by '???\" in these sentences.\n",
    "\n",
    "Output Format\n",
    "N lines, each containing one sentence. The ith output contains the completed version of the ith input, where the '???' have been replaced by either 'it's' or 'its', as appropriate.\n",
    "Capitalization will be ignored.\n",
    "\n",
    "Sample Input\n",
    "\n",
    "10  \n",
    "This restaurant is known for ??? emphasis on spicy cooking.  \n",
    "Golfing has lost ??? appeal.  \n",
    "??? become very difficult to find parking in the downtown areas.  \n",
    "This shop recently moved from ??? former location near the bus terminus.  \n",
    "Every dog has ??? day.  \n",
    "Guess ??? shape.\n",
    "The jury has reached ??? decision.  \n",
    "Stop ??? momentum!  \n",
    "??? time to go.\n",
    "??? lying over there.\n",
    "\n",
    "Sample Output\n",
    "\n",
    "This restaurant is known for its emphasis on spicy cooking.  \n",
    "Golfing has lost its appeal.  \n",
    "It's become very difficult to find parking in the downtown areas.  \n",
    "This shop recently moved from its former location near the bus terminus.  \n",
    "Every dog has its day.  \n",
    "Guess its shape.\n",
    "The jury has reached its decision.  \n",
    "Stop its momentum!  \n",
    "It's time to go.\n",
    "It's lying over there."
   ]
  },
  {
   "cell_type": "code",
   "execution_count": 53,
   "metadata": {},
   "outputs": [],
   "source": [
    "import pandas as pd\n",
    "import numpy as np\n",
    "import nltk \n",
    "from nltk import word_tokenize, sent_tokenize\n",
    "from collections import defaultdict"
   ]
  },
  {
   "cell_type": "code",
   "execution_count": 18,
   "metadata": {},
   "outputs": [],
   "source": [
    "with open('punctuation_corrector_corpus.txt') as f:\n",
    "    corpus = f.read()"
   ]
  },
  {
   "cell_type": "code",
   "execution_count": 29,
   "metadata": {},
   "outputs": [
    {
     "data": {
      "text/plain": [
       "\"\\ufeffProject Gutenberg's The Secret Cache, by E. C. [Ethel Claire] Brill. . This eBook is for the use of anyone anywhere at no cost and with. almost no restrictions whatsoever.  You may copy it, give it away\""
      ]
     },
     "execution_count": 29,
     "metadata": {},
     "output_type": "execute_result"
    }
   ],
   "source": [
    "corpus[:200].replace('\\n', '. ')"
   ]
  },
  {
   "cell_type": "code",
   "execution_count": 35,
   "metadata": {},
   "outputs": [],
   "source": [
    "tokenized_sentence = [sent for sent in sent_tokenize(corpus.replace('\\n', '. ')) if sent!= '.']"
   ]
  },
  {
   "cell_type": "code",
   "execution_count": 36,
   "metadata": {},
   "outputs": [
    {
     "data": {
      "text/plain": [
       "70728"
      ]
     },
     "execution_count": 36,
     "metadata": {},
     "output_type": "execute_result"
    }
   ],
   "source": [
    "len(tokenized_sentence)"
   ]
  },
  {
   "cell_type": "code",
   "execution_count": 51,
   "metadata": {},
   "outputs": [],
   "source": [
    "# Let's define 'its' as positive and 'it's' as negative:\n",
    "\n",
    "positive_tokenized_sentence = [sent for sent in tokenized_sentence if 'its' in sent and \"it's\" not in sent]\n",
    "\n",
    "negative_tokenized_sentence = [sent for sent in tokenized_sentence if \"it's\" in sent]\n"
   ]
  },
  {
   "cell_type": "code",
   "execution_count": 65,
   "metadata": {},
   "outputs": [],
   "source": [
    "its_previous_word_cnt = defaultdict(int)\n",
    "its_previous_word_tag = defaultdict(int)\n",
    "\n",
    "for sentence in positive_tokenized_sentence:\n",
    "    tokenized_word_list = [word.lower() for word in word_tokenize(sentence) if word.isalpha()]\n",
    "#     print(tokenized_word_list)\n",
    "    for index in range(1, len(tokenized_word_list)):\n",
    "        if tokenized_word_list[index] == 'its':\n",
    "            previous_word = tokenized_word_list[index-1]\n",
    "            its_previous_word_cnt[previous_word] += 1\n",
    "            its_previous_word_tag[nlp(previous_word)[0].pos_] +=1\n",
    "            \n",
    "# its_previous_word_cnt        "
   ]
  },
  {
   "cell_type": "code",
   "execution_count": 60,
   "metadata": {},
   "outputs": [],
   "source": [
    "its_previous_word_cnt_list = [(word, freq) for (word, freq) in its_previous_word_cnt.items()]\n",
    "its_previous_word_cnt_list = sorted(its_previous_word_cnt_list, key = lambda x: -x[1])"
   ]
  },
  {
   "cell_type": "code",
   "execution_count": 68,
   "metadata": {},
   "outputs": [
    {
     "data": {
      "text/plain": [
       "defaultdict(int,\n",
       "            {'VERB': 102,\n",
       "             'NOUN': 40,\n",
       "             'CCONJ': 34,\n",
       "             'DET': 20,\n",
       "             'ADP': 237,\n",
       "             'PART': 23,\n",
       "             'ADV': 15,\n",
       "             'ADJ': 8,\n",
       "             'INTJ': 1,\n",
       "             'PRON': 1})"
      ]
     },
     "execution_count": 68,
     "metadata": {},
     "output_type": "execute_result"
    }
   ],
   "source": [
    "its_previous_word_tag"
   ]
  },
  {
   "cell_type": "code",
   "execution_count": 63,
   "metadata": {},
   "outputs": [
    {
     "name": "stdout",
     "output_type": "stream",
     "text": [
      "Apple PROPN\n",
      "is VERB\n",
      "looking VERB\n",
      "at ADP\n",
      "buying VERB\n",
      "U.K. PROPN\n",
      "startup NOUN\n",
      "for ADP\n",
      "$ SYM\n",
      "1 NUM\n",
      "billion NUM\n"
     ]
    }
   ],
   "source": [
    "import spacy\n",
    "\n",
    "nlp = spacy.load(\"en_core_web_sm\")\n",
    "doc = nlp(\"Apple is looking at buying U.K. startup for $1 billion\")\n",
    "\n",
    "for token in doc:\n",
    "    print(token.text, token.pos_)"
   ]
  },
  {
   "cell_type": "code",
   "execution_count": 45,
   "metadata": {},
   "outputs": [
    {
     "data": {
      "text/plain": [
       "818"
      ]
     },
     "execution_count": 45,
     "metadata": {},
     "output_type": "execute_result"
    }
   ],
   "source": [
    "len(positive_tokenized_sentence)"
   ]
  },
  {
   "cell_type": "code",
   "execution_count": 50,
   "metadata": {},
   "outputs": [
    {
     "data": {
      "text/plain": [
       "12"
      ]
     },
     "execution_count": 50,
     "metadata": {},
     "output_type": "execute_result"
    }
   ],
   "source": [
    "len(negative_tokenized_sentence)"
   ]
  },
  {
   "cell_type": "code",
   "execution_count": 52,
   "metadata": {},
   "outputs": [
    {
     "data": {
      "text/plain": [
       "[\"behind instead of standing up straight and stiff, as a rabbit's tail.\",\n",
       " \"The little squirrels were so astonished at the rabbit's appearance.\",\n",
       " \"Doctor, we've done our work, so it's time we had some play.\",\n",
       " '\"It--it\\'s not actionable,\" he.',\n",
       " '\"It\\'s as well,\" said the old man; \"it\\'s a question whether I. shall live to the Assizes, so it matters little to me, but I. should wish to spare Alice the shock.',\n",
       " \"If you don't--it's a fine,.\",\n",
       " \"I was at my wit's end where to get.\",\n",
       " \"of the business; but it's 'Where are the geese?'\",\n",
       " '\"Well, then, you\\'ve lost your fiver, for it\\'s town bred,\" snapped.',\n",
       " '\"Very sorry to knock you up, Watson,\" said he, \"but it\\'s the.',\n",
       " '\"Why, it\\'s a dummy,\" said he.. .',\n",
       " \"it's a wicked world,.\"]"
      ]
     },
     "execution_count": 52,
     "metadata": {},
     "output_type": "execute_result"
    }
   ],
   "source": [
    "negative_tokenized_sentence"
   ]
  },
  {
   "cell_type": "code",
   "execution_count": null,
   "metadata": {},
   "outputs": [],
   "source": []
  }
 ],
 "metadata": {
  "kernelspec": {
   "display_name": "Python 3",
   "language": "python",
   "name": "python3"
  },
  "language_info": {
   "codemirror_mode": {
    "name": "ipython",
    "version": 3
   },
   "file_extension": ".py",
   "mimetype": "text/x-python",
   "name": "python",
   "nbconvert_exporter": "python",
   "pygments_lexer": "ipython3",
   "version": "3.7.1"
  }
 },
 "nbformat": 4,
 "nbformat_minor": 2
}
