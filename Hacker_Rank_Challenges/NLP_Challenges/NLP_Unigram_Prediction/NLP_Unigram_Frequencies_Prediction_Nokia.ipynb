{
 "cells": [
  {
   "cell_type": "code",
   "execution_count": 19,
   "metadata": {},
   "outputs": [],
   "source": [
    "import pandas as pd\n",
    "import numpy as np\n",
    "import fileinput\n",
    "import itertools"
   ]
  },
  {
   "cell_type": "code",
   "execution_count": 170,
   "metadata": {},
   "outputs": [],
   "source": [
    "input_numbers = pd.read_csv('input00.txt', header = None)"
   ]
  },
  {
   "cell_type": "code",
   "execution_count": 171,
   "metadata": {},
   "outputs": [
    {
     "data": {
      "text/html": [
       "<div>\n",
       "<style scoped>\n",
       "    .dataframe tbody tr th:only-of-type {\n",
       "        vertical-align: middle;\n",
       "    }\n",
       "\n",
       "    .dataframe tbody tr th {\n",
       "        vertical-align: top;\n",
       "    }\n",
       "\n",
       "    .dataframe thead th {\n",
       "        text-align: right;\n",
       "    }\n",
       "</style>\n",
       "<table border=\"1\" class=\"dataframe\">\n",
       "  <thead>\n",
       "    <tr style=\"text-align: right;\">\n",
       "      <th></th>\n",
       "      <th>0</th>\n",
       "    </tr>\n",
       "  </thead>\n",
       "  <tbody>\n",
       "    <tr>\n",
       "      <th>0</th>\n",
       "      <td>6</td>\n",
       "    </tr>\n",
       "    <tr>\n",
       "      <th>1</th>\n",
       "      <td>6837</td>\n",
       "    </tr>\n",
       "    <tr>\n",
       "      <th>2</th>\n",
       "      <td>86</td>\n",
       "    </tr>\n",
       "    <tr>\n",
       "      <th>3</th>\n",
       "      <td>69</td>\n",
       "    </tr>\n",
       "    <tr>\n",
       "      <th>4</th>\n",
       "      <td>23777</td>\n",
       "    </tr>\n",
       "    <tr>\n",
       "      <th>5</th>\n",
       "      <td>11111</td>\n",
       "    </tr>\n",
       "    <tr>\n",
       "      <th>6</th>\n",
       "      <td>77777</td>\n",
       "    </tr>\n",
       "  </tbody>\n",
       "</table>\n",
       "</div>"
      ],
      "text/plain": [
       "       0\n",
       "0      6\n",
       "1   6837\n",
       "2     86\n",
       "3     69\n",
       "4  23777\n",
       "5  11111\n",
       "6  77777"
      ]
     },
     "execution_count": 171,
     "metadata": {},
     "output_type": "execute_result"
    }
   ],
   "source": [
    "input_numbers"
   ]
  },
  {
   "cell_type": "code",
   "execution_count": 123,
   "metadata": {},
   "outputs": [],
   "source": [
    "dictionary_list = pd.read_csv('t9Dictionary', header = None)[0]"
   ]
  },
  {
   "cell_type": "code",
   "execution_count": 127,
   "metadata": {},
   "outputs": [],
   "source": [
    "dictionary_list = dictionary_list[1:]"
   ]
  },
  {
   "cell_type": "code",
   "execution_count": 83,
   "metadata": {},
   "outputs": [
    {
     "data": {
      "text/html": [
       "<div>\n",
       "<style scoped>\n",
       "    .dataframe tbody tr th:only-of-type {\n",
       "        vertical-align: middle;\n",
       "    }\n",
       "\n",
       "    .dataframe tbody tr th {\n",
       "        vertical-align: top;\n",
       "    }\n",
       "\n",
       "    .dataframe thead th {\n",
       "        text-align: right;\n",
       "    }\n",
       "</style>\n",
       "<table border=\"1\" class=\"dataframe\">\n",
       "  <thead>\n",
       "    <tr style=\"text-align: right;\">\n",
       "      <th></th>\n",
       "      <th>0</th>\n",
       "    </tr>\n",
       "  </thead>\n",
       "  <tbody>\n",
       "    <tr>\n",
       "      <th>27768</th>\n",
       "      <td>cesspool</td>\n",
       "    </tr>\n",
       "  </tbody>\n",
       "</table>\n",
       "</div>"
      ],
      "text/plain": [
       "              0\n",
       "27768  cesspool"
      ]
     },
     "execution_count": 83,
     "metadata": {},
     "output_type": "execute_result"
    }
   ],
   "source": [
    "temp_df[temp_df[0] == 'cesspool']"
   ]
  },
  {
   "cell_type": "code",
   "execution_count": 23,
   "metadata": {},
   "outputs": [],
   "source": [
    "# corpus = pd.read_fwf('t9TextCorpus', header = None)"
   ]
  },
  {
   "cell_type": "code",
   "execution_count": 24,
   "metadata": {},
   "outputs": [],
   "source": [
    "with open('t9TextCorpus') as f:\n",
    "    corpus = f.read()\n"
   ]
  },
  {
   "cell_type": "markdown",
   "metadata": {},
   "source": [
    "## Preprocess"
   ]
  },
  {
   "cell_type": "code",
   "execution_count": 172,
   "metadata": {},
   "outputs": [],
   "source": [
    "input_numbers = input_numbers[1:]"
   ]
  },
  {
   "cell_type": "code",
   "execution_count": 173,
   "metadata": {},
   "outputs": [
    {
     "data": {
      "text/html": [
       "<div>\n",
       "<style scoped>\n",
       "    .dataframe tbody tr th:only-of-type {\n",
       "        vertical-align: middle;\n",
       "    }\n",
       "\n",
       "    .dataframe tbody tr th {\n",
       "        vertical-align: top;\n",
       "    }\n",
       "\n",
       "    .dataframe thead th {\n",
       "        text-align: right;\n",
       "    }\n",
       "</style>\n",
       "<table border=\"1\" class=\"dataframe\">\n",
       "  <thead>\n",
       "    <tr style=\"text-align: right;\">\n",
       "      <th></th>\n",
       "      <th>0</th>\n",
       "    </tr>\n",
       "  </thead>\n",
       "  <tbody>\n",
       "    <tr>\n",
       "      <th>1</th>\n",
       "      <td>6837</td>\n",
       "    </tr>\n",
       "    <tr>\n",
       "      <th>2</th>\n",
       "      <td>86</td>\n",
       "    </tr>\n",
       "    <tr>\n",
       "      <th>3</th>\n",
       "      <td>69</td>\n",
       "    </tr>\n",
       "    <tr>\n",
       "      <th>4</th>\n",
       "      <td>23777</td>\n",
       "    </tr>\n",
       "    <tr>\n",
       "      <th>5</th>\n",
       "      <td>11111</td>\n",
       "    </tr>\n",
       "    <tr>\n",
       "      <th>6</th>\n",
       "      <td>77777</td>\n",
       "    </tr>\n",
       "  </tbody>\n",
       "</table>\n",
       "</div>"
      ],
      "text/plain": [
       "       0\n",
       "1   6837\n",
       "2     86\n",
       "3     69\n",
       "4  23777\n",
       "5  11111\n",
       "6  77777"
      ]
     },
     "execution_count": 173,
     "metadata": {},
     "output_type": "execute_result"
    }
   ],
   "source": [
    "input_numbers"
   ]
  },
  {
   "cell_type": "code",
   "execution_count": 27,
   "metadata": {},
   "outputs": [],
   "source": [
    "input_numbers = [str(i) for i in list(input_numbers[0])]"
   ]
  },
  {
   "cell_type": "code",
   "execution_count": 28,
   "metadata": {},
   "outputs": [],
   "source": [
    "import collections\n",
    "\n",
    "corpus_counter = collections.Counter(corpus.split(' '))"
   ]
  },
  {
   "cell_type": "code",
   "execution_count": 90,
   "metadata": {},
   "outputs": [
    {
     "data": {
      "text/plain": [
       "1"
      ]
     },
     "execution_count": 90,
     "metadata": {},
     "output_type": "execute_result"
    }
   ],
   "source": [
    "corpus_counter.get('aaa', 1)"
   ]
  },
  {
   "cell_type": "code",
   "execution_count": 128,
   "metadata": {},
   "outputs": [],
   "source": [
    "dictionary = {key: corpus_counter.get(key, 1) for key in dictionary_list}"
   ]
  },
  {
   "cell_type": "code",
   "execution_count": 31,
   "metadata": {},
   "outputs": [],
   "source": [
    "def letterCombinations(digits):\n",
    "        \n",
    "        keyboard = {'1':'', '2':'abc','3':'def','4':'ghi','5':'jkl','6':'mno','7':'pqrs','8':'tuv','9':'wxyz'}\n",
    "\n",
    "        if not digits: return []\n",
    "        \n",
    "        chars = []\n",
    "        for d in digits:\n",
    "            chars.append(keyboard[d])\n",
    "         \n",
    "        return [\"\".join(c) for c in itertools.product(*chars)]"
   ]
  },
  {
   "cell_type": "code",
   "execution_count": 32,
   "metadata": {},
   "outputs": [],
   "source": [
    "input_number = '23'"
   ]
  },
  {
   "cell_type": "code",
   "execution_count": 33,
   "metadata": {},
   "outputs": [
    {
     "data": {
      "text/plain": [
       "['ad', 'ae', 'af', 'bd', 'be', 'bf', 'cd', 'ce', 'cf']"
      ]
     },
     "execution_count": 33,
     "metadata": {},
     "output_type": "execute_result"
    }
   ],
   "source": [
    "letterCombinations(input_number)"
   ]
  },
  {
   "cell_type": "code",
   "execution_count": 35,
   "metadata": {},
   "outputs": [
    {
     "name": "stdout",
     "output_type": "stream",
     "text": [
      "[('be', 10458), ('ad', 2), ('cf', 2), ('ae', 0), ('af', 0)]\n"
     ]
    }
   ],
   "source": [
    "current_list = []\n",
    "for word in letterCombinations(input_number):\n",
    "    current_list.append((word, dictionary.get(word, 0)))\n",
    "\n",
    "current_list = sorted(current_list, key = lambda x: -x[1])[:5]\n",
    "print(current_list)"
   ]
  },
  {
   "cell_type": "code",
   "execution_count": 94,
   "metadata": {},
   "outputs": [],
   "source": [
    "def get_word_suggestions(input_numbers):\n",
    "    results = []\n",
    "    for digits in input_numbers:\n",
    "        current_list = []\n",
    "        for word in letterCombinations(digits):\n",
    "            if word in dictionary:\n",
    "                current_list.append((word, dictionary.get(word, 0)))\n",
    "        current_list = sorted(current_list, key = lambda x: -x[1])[:5]\n",
    "        if len(current_list) == 0:\n",
    "            print('No Suggestions')\n",
    "        else:\n",
    "            print(current_list)\n",
    "        results.append(current_list)\n",
    "    return results\n"
   ]
  },
  {
   "cell_type": "code",
   "execution_count": 95,
   "metadata": {},
   "outputs": [
    {
     "name": "stdout",
     "output_type": "stream",
     "text": [
      "[('over', 2052)]\n",
      "[('to', 50452), ('tm', 1), ('um', 1)]\n",
      "[('my', 3920), ('ox', 31), ('ow', 1), ('oz', 1)]\n",
      "No Suggestions\n",
      "No Suggestions\n",
      "No Suggestions\n"
     ]
    },
    {
     "data": {
      "text/plain": [
       "[[('over', 2052)],\n",
       " [('to', 50452), ('tm', 1), ('um', 1)],\n",
       " [('my', 3920), ('ox', 31), ('ow', 1), ('oz', 1)],\n",
       " [],\n",
       " [],\n",
       " []]"
      ]
     },
     "execution_count": 95,
     "metadata": {},
     "output_type": "execute_result"
    }
   ],
   "source": [
    "get_word_suggestions(input_numbers)"
   ]
  },
  {
   "cell_type": "code",
   "execution_count": 178,
   "metadata": {},
   "outputs": [
    {
     "name": "stdout",
     "output_type": "stream",
     "text": [
      "['over', 'overlying', 'overcome', 'overthrow', 'overtook']\n",
      "['to', 'under', 'took', 'united', 'told']\n",
      "['my', 'own', 'myself', 'owners', 'owing']\n",
      "['cesspool', \"cesspool's\", 'cesspools']\n",
      "No Suggestions\n",
      "No Suggestions\n"
     ]
    },
    {
     "data": {
      "text/plain": [
       "[[('over', 2052),\n",
       "  ('overlying', 76),\n",
       "  ('overcome', 40),\n",
       "  ('overthrow', 32),\n",
       "  ('overtook', 30)],\n",
       " [('to', 50452),\n",
       "  ('under', 1568),\n",
       "  ('took', 1001),\n",
       "  ('united', 885),\n",
       "  ('told', 848)],\n",
       " [('my', 3920), ('own', 1199), ('myself', 248), ('owners', 66), ('owing', 60)],\n",
       " [('cesspool', 0), (\"cesspool's\", 0), ('cesspools', 0)],\n",
       " [],\n",
       " []]"
      ]
     },
     "execution_count": 178,
     "metadata": {},
     "output_type": "execute_result"
    }
   ],
   "source": [
    "# Combine:\n",
    "input_numbers = pd.read_csv('input00.txt', header = None)\n",
    "dictionary_list = pd.read_csv('t9Dictionary', header = None)[0]\n",
    "dictionary_list = dictionary_list[1:]\n",
    "\n",
    "with open('t9TextCorpus') as f:\n",
    "    corpus = f.read()\n",
    "    \n",
    "input_numbers = input_numbers[1:]\n",
    "input_numbers = [str(i) for i in list(input_numbers[0])]\n",
    "\n",
    "import collections\n",
    "\n",
    "corpus_counter = collections.Counter(corpus.split(' '))\n",
    "\n",
    "# we can also consider adding get(key,1) so that we give certain weights to the word that occur in the dictionary\n",
    "\n",
    "dictionary = {key: corpus_counter.get(key,0) for key in dictionary_list}\n",
    "\n",
    "def letterCombinations(digits):\n",
    "        \n",
    "        keyboard = {'1':'', '2':'abc','3':'def','4':'ghi','5':'jkl','6':'mno','7':'pqrs','8':'tuv','9':'wxyz'}\n",
    "\n",
    "        if not digits: return []\n",
    "        \n",
    "        chars = []\n",
    "        for d in digits:\n",
    "            chars.append(keyboard[d])\n",
    "         \n",
    "        return [\"\".join(c) for c in itertools.product(*chars)]\n",
    "\n",
    "    \n",
    "def get_word_suggestions(input_numbers):\n",
    "    results = []\n",
    "    \n",
    "    for digits in input_numbers:\n",
    "        \n",
    "        possible_words_freq_list = []\n",
    "        \n",
    "        for word in letterCombinations(digits):\n",
    "            \n",
    "            if word in dictionary:\n",
    "                \n",
    "                possible_words_freq_list.append((word, dictionary.get(word, 0)))\n",
    "                \n",
    "            keys = dictionary.keys()\n",
    "            \n",
    "            for key in keys:\n",
    "                \n",
    "                if str(key).startswith(word) and key != word:\n",
    "                    \n",
    "                    possible_words_freq_list.append((key, dictionary.get(key, 0)))\n",
    "                    \n",
    "        possible_words_freq_list = sorted(possible_words_freq_list, key = lambda x: -x[1])[:5]\n",
    "        \n",
    "        possible_words = [element[0] for element in possible_words_freq_list]\n",
    "        \n",
    "        if len(possible_words) == 0:\n",
    "            print('No Suggestions')\n",
    "            \n",
    "        else:\n",
    "            print(possible_words)\n",
    "            \n",
    "        results.append(possible_words_freq_list)\n",
    "        \n",
    "    return results\n",
    "\n",
    "get_word_suggestions(input_numbers)"
   ]
  },
  {
   "cell_type": "code",
   "execution_count": 1,
   "metadata": {},
   "outputs": [
    {
     "name": "stdout",
     "output_type": "stream",
     "text": [
      "['over']\n",
      "['over']\n",
      "False\n"
     ]
    }
   ],
   "source": [
    "import re\n",
    "t = 'overlying'\n",
    "word = '^over'\n",
    "\n",
    "print(re.findall('^over', t))\n",
    "print(re.findall(word, t))\n",
    "\n",
    "print(t.startswith(word))"
   ]
  },
  {
   "cell_type": "code",
   "execution_count": 158,
   "metadata": {},
   "outputs": [
    {
     "name": "stdout",
     "output_type": "stream",
     "text": [
      "None\n"
     ]
    }
   ],
   "source": [
    "myre = re.compile(word)\n",
    "print(re.match('^myre', t))"
   ]
  },
  {
   "cell_type": "code",
   "execution_count": 99,
   "metadata": {},
   "outputs": [],
   "source": [
    "# Enter your code here. Read input from STDIN. Print output to STDOUT\n",
    "# import pandas as pd\n",
    "# import numpy as np\n",
    "# import fileinput\n",
    "# import itertools\n",
    "\n",
    "# when read from HackerRank:\n",
    "# temp = []\n",
    "# for f in fileinput.input():\n",
    "#     temp.append(f)\n",
    "    \n",
    "# input_numbers = pd.DataFrame(temp)\n",
    "\n",
    "# input_numbers[input_numbers.columns[0]] = input_numbers[input_numbers.columns[0]].str.replace('\\n', '')\n",
    "\n",
    "\n",
    "# with open('t9Dictionary') as f:\n",
    "#     dictionary_list = f.read()\n",
    "    \n",
    "# with open('t9TextCorpus') as f:\n",
    "#     corpus = f.read()\n",
    "    \n"
   ]
  },
  {
   "cell_type": "code",
   "execution_count": null,
   "metadata": {},
   "outputs": [],
   "source": [
    "# dictionary_list = dictionary_list[1:]\n",
    "\n",
    "\n",
    "# input_numbers = input_numbers[1:]\n",
    "# input_numbers = [str(i) for i in list(input_numbers[0])]\n",
    "\n",
    "# import collections\n",
    "\n",
    "# corpus_counter = collections.Counter(corpus.split(' '))\n",
    "\n",
    "# # we can also consider adding get(key,1) so that we give certain weights to the word that occur in the dictionary\n",
    "\n",
    "# dictionary = {key: corpus_counter.get(key,0) for key in dictionary_list}\n"
   ]
  },
  {
   "cell_type": "code",
   "execution_count": 185,
   "metadata": {},
   "outputs": [
    {
     "name": "stdout",
     "output_type": "stream",
     "text": [
      "['over', 'overlying', 'overcome', 'overthrow', 'overtook']\n",
      "['to', 'under', 'took', 'united', 'told']\n",
      "['my', 'own', 'myself', 'owners', 'owing']\n",
      "['cesspool', \"cesspool's\", 'cesspools']\n",
      "No Suggestions\n",
      "No Suggestions\n"
     ]
    }
   ],
   "source": [
    "# a better solution! use RE to simplify!\n",
    "\n",
    "input_numbers = pd.read_csv('input00.txt', header = None)\n",
    "dictionary_list = pd.read_csv('t9Dictionary', header = None)[0]\n",
    "dictionary_list = dictionary_list[1:]\n",
    "\n",
    "with open('t9TextCorpus') as f:\n",
    "    corpus = f.read()\n",
    "    \n",
    "input_numbers = input_numbers[1:]\n",
    "input_numbers = [str(i) for i in list(input_numbers[0])]\n",
    "\n",
    "\n",
    "import collections\n",
    "\n",
    "corpus_counter = collections.Counter(corpus.split(' '))\n",
    "\n",
    "# we can also consider adding get(key,1) so that we give certain weights to the word that occur in the dictionary\n",
    "\n",
    "dictionary = {key: corpus_counter.get(key,0) for key in dictionary_list}\n",
    "\n",
    "\n",
    "keyboard = {2: '[abc]',\n",
    "            3: '[def]',\n",
    "            4: '[ghi]',\n",
    "            5: '[jkl]',\n",
    "            6: '[mno]',\n",
    "            7: '[pqrs]',\n",
    "            8: '[tuv]',\n",
    "            9: '[wxyz]'}\n",
    "\n",
    "def getTop5(numInput):\n",
    "    regex = ''\n",
    "    for ch in numInput:\n",
    "        try:\n",
    "            regex += keyboard[int(ch)]\n",
    "        except:\n",
    "            regex = 'No Suggestions'\n",
    "\n",
    "    \n",
    "    suggestions_dictionary = {}\n",
    "    \n",
    "    myRe = re.compile(regex)\n",
    "    \n",
    "    for key in dictionary:\n",
    "        \n",
    "        if myRe.match(str(key)):\n",
    "            \n",
    "            suggestions_dictionary[key] = dictionary[key]\n",
    "            \n",
    "    suggestion_freq_list = [(key, freq) for (key, freq) in suggestions_dictionary.items()]\n",
    "    \n",
    "    suggestion_freq_list = sorted(suggestion_freq_list, key = lambda x: -x[1])[:5]\n",
    "    \n",
    "    if len(suggestion_freq_list) == 0:\n",
    "        print('No Suggestions')\n",
    "        return 'No Suggestions'\n",
    "    \n",
    "    else:\n",
    "        suggestion_list = [element[0] for element in suggestion_freq_list]\n",
    "        print(suggestion_list)\n",
    "        return suggestion_list\n",
    "\n",
    "for input_num in input_numbers:\n",
    "    getTop5((input_num))"
   ]
  },
  {
   "cell_type": "code",
   "execution_count": null,
   "metadata": {},
   "outputs": [],
   "source": []
  }
 ],
 "metadata": {
  "kernelspec": {
   "display_name": "Python 3",
   "language": "python",
   "name": "python3"
  },
  "language_info": {
   "codemirror_mode": {
    "name": "ipython",
    "version": 3
   },
   "file_extension": ".py",
   "mimetype": "text/x-python",
   "name": "python",
   "nbconvert_exporter": "python",
   "pygments_lexer": "ipython3",
   "version": "3.7.1"
  }
 },
 "nbformat": 4,
 "nbformat_minor": 2
}
