{
 "cells": [
  {
   "cell_type": "code",
   "execution_count": 125,
   "metadata": {},
   "outputs": [],
   "source": [
    "import pandas as pd\n",
    "import numpy as np\n",
    "import fileinput\n",
    "import itertools"
   ]
  },
  {
   "cell_type": "code",
   "execution_count": 48,
   "metadata": {},
   "outputs": [],
   "source": [
    "input_numbers = pd.read_csv('input00.txt', header = None)"
   ]
  },
  {
   "cell_type": "code",
   "execution_count": 49,
   "metadata": {},
   "outputs": [
    {
     "data": {
      "text/html": [
       "<div>\n",
       "<style scoped>\n",
       "    .dataframe tbody tr th:only-of-type {\n",
       "        vertical-align: middle;\n",
       "    }\n",
       "\n",
       "    .dataframe tbody tr th {\n",
       "        vertical-align: top;\n",
       "    }\n",
       "\n",
       "    .dataframe thead th {\n",
       "        text-align: right;\n",
       "    }\n",
       "</style>\n",
       "<table border=\"1\" class=\"dataframe\">\n",
       "  <thead>\n",
       "    <tr style=\"text-align: right;\">\n",
       "      <th></th>\n",
       "      <th>0</th>\n",
       "    </tr>\n",
       "  </thead>\n",
       "  <tbody>\n",
       "    <tr>\n",
       "      <th>0</th>\n",
       "      <td>6</td>\n",
       "    </tr>\n",
       "    <tr>\n",
       "      <th>1</th>\n",
       "      <td>6837</td>\n",
       "    </tr>\n",
       "    <tr>\n",
       "      <th>2</th>\n",
       "      <td>86</td>\n",
       "    </tr>\n",
       "    <tr>\n",
       "      <th>3</th>\n",
       "      <td>69</td>\n",
       "    </tr>\n",
       "    <tr>\n",
       "      <th>4</th>\n",
       "      <td>23777</td>\n",
       "    </tr>\n",
       "    <tr>\n",
       "      <th>5</th>\n",
       "      <td>11111</td>\n",
       "    </tr>\n",
       "    <tr>\n",
       "      <th>6</th>\n",
       "      <td>77777</td>\n",
       "    </tr>\n",
       "  </tbody>\n",
       "</table>\n",
       "</div>"
      ],
      "text/plain": [
       "       0\n",
       "0      6\n",
       "1   6837\n",
       "2     86\n",
       "3     69\n",
       "4  23777\n",
       "5  11111\n",
       "6  77777"
      ]
     },
     "execution_count": 49,
     "metadata": {},
     "output_type": "execute_result"
    }
   ],
   "source": [
    "input_numbers"
   ]
  },
  {
   "cell_type": "code",
   "execution_count": 43,
   "metadata": {},
   "outputs": [],
   "source": [
    "dictionary_list = pd.read_csv('t9Dictionary', header = None)[0]"
   ]
  },
  {
   "cell_type": "code",
   "execution_count": 14,
   "metadata": {},
   "outputs": [],
   "source": [
    "# corpus = pd.read_fwf('t9TextCorpus', header = None)"
   ]
  },
  {
   "cell_type": "code",
   "execution_count": 28,
   "metadata": {},
   "outputs": [],
   "source": [
    "with open('t9TextCorpus') as f:\n",
    "    corpus = f.read()\n"
   ]
  },
  {
   "cell_type": "markdown",
   "metadata": {},
   "source": [
    "## Preprocess"
   ]
  },
  {
   "cell_type": "code",
   "execution_count": 50,
   "metadata": {},
   "outputs": [],
   "source": [
    "input_numbers = input_numbers[1:]"
   ]
  },
  {
   "cell_type": "code",
   "execution_count": 51,
   "metadata": {},
   "outputs": [
    {
     "data": {
      "text/html": [
       "<div>\n",
       "<style scoped>\n",
       "    .dataframe tbody tr th:only-of-type {\n",
       "        vertical-align: middle;\n",
       "    }\n",
       "\n",
       "    .dataframe tbody tr th {\n",
       "        vertical-align: top;\n",
       "    }\n",
       "\n",
       "    .dataframe thead th {\n",
       "        text-align: right;\n",
       "    }\n",
       "</style>\n",
       "<table border=\"1\" class=\"dataframe\">\n",
       "  <thead>\n",
       "    <tr style=\"text-align: right;\">\n",
       "      <th></th>\n",
       "      <th>0</th>\n",
       "    </tr>\n",
       "  </thead>\n",
       "  <tbody>\n",
       "    <tr>\n",
       "      <th>1</th>\n",
       "      <td>6837</td>\n",
       "    </tr>\n",
       "    <tr>\n",
       "      <th>2</th>\n",
       "      <td>86</td>\n",
       "    </tr>\n",
       "    <tr>\n",
       "      <th>3</th>\n",
       "      <td>69</td>\n",
       "    </tr>\n",
       "    <tr>\n",
       "      <th>4</th>\n",
       "      <td>23777</td>\n",
       "    </tr>\n",
       "    <tr>\n",
       "      <th>5</th>\n",
       "      <td>11111</td>\n",
       "    </tr>\n",
       "    <tr>\n",
       "      <th>6</th>\n",
       "      <td>77777</td>\n",
       "    </tr>\n",
       "  </tbody>\n",
       "</table>\n",
       "</div>"
      ],
      "text/plain": [
       "       0\n",
       "1   6837\n",
       "2     86\n",
       "3     69\n",
       "4  23777\n",
       "5  11111\n",
       "6  77777"
      ]
     },
     "execution_count": 51,
     "metadata": {},
     "output_type": "execute_result"
    }
   ],
   "source": [
    "input_numbers"
   ]
  },
  {
   "cell_type": "code",
   "execution_count": 114,
   "metadata": {},
   "outputs": [],
   "source": [
    "input_numbers = [str(i) for i in list(input_numbers[0])]"
   ]
  },
  {
   "cell_type": "code",
   "execution_count": 32,
   "metadata": {},
   "outputs": [],
   "source": [
    "import collections\n",
    "\n",
    "corpus_counter = collections.Counter(corpus.split(' '))"
   ]
  },
  {
   "cell_type": "code",
   "execution_count": 45,
   "metadata": {},
   "outputs": [],
   "source": [
    "dictionary = {key: corpus_counter[key] for key in dictionary_list}"
   ]
  },
  {
   "cell_type": "code",
   "execution_count": 117,
   "metadata": {},
   "outputs": [],
   "source": [
    "def letterCombinations(digits):\n",
    "        \n",
    "        keyboard = {'1':'', '2':'abc','3':'def','4':'ghi','5':'jkl','6':'mno','7':'pqrs','8':'tuv','9':'wxyz'}\n",
    "\n",
    "        if not digits: return []\n",
    "        \n",
    "        chars = []\n",
    "        for d in digits:\n",
    "            chars.append(keyboard[d])\n",
    "         \n",
    "        return [\"\".join(c) for c in itertools.product(*chars)]"
   ]
  },
  {
   "cell_type": "code",
   "execution_count": 103,
   "metadata": {},
   "outputs": [
    {
     "data": {
      "text/plain": [
       "'0    69\\nName: 3, dtype: int64'"
      ]
     },
     "execution_count": 103,
     "metadata": {},
     "output_type": "execute_result"
    }
   ],
   "source": [
    "input_number = '23'"
   ]
  },
  {
   "cell_type": "code",
   "execution_count": 118,
   "metadata": {},
   "outputs": [
    {
     "data": {
      "text/plain": [
       "['ad', 'ae', 'af', 'bd', 'be', 'bf', 'cd', 'ce', 'cf']"
      ]
     },
     "execution_count": 118,
     "metadata": {},
     "output_type": "execute_result"
    }
   ],
   "source": [
    "letterCombinations(digits)"
   ]
  },
  {
   "cell_type": "code",
   "execution_count": 123,
   "metadata": {},
   "outputs": [
    {
     "name": "stdout",
     "output_type": "stream",
     "text": [
      "[('be', 10458), ('ad', 2), ('cf', 2), ('ae', 0), ('af', 0)]\n"
     ]
    }
   ],
   "source": [
    "current_list = []\n",
    "for word in letterCombinations(digits):\n",
    "    current_list.append((word, dictionary.get(word, 0)))\n",
    "\n",
    "current_list = sorted(current_list, key = lambda x: -x[1])[:5]\n",
    "print(current_list)"
   ]
  },
  {
   "cell_type": "code",
   "execution_count": 121,
   "metadata": {},
   "outputs": [],
   "source": [
    "def get_word_suggestions(input_numbers):\n",
    "    results = []\n",
    "    for digits in input_numbers:\n",
    "        current_list = []\n",
    "        for word in letterCombinations(digits):\n",
    "            current_list.append((word, dictionary.get(word, 0)))\n",
    "        current_list = sorted(current_list, key = lambda x: -x[1])[:5]\n",
    "        if len(current_list) == 0:\n",
    "            print('No Suggestions')\n",
    "        else:\n",
    "            print(current_list)\n",
    "        results.append(current_list)\n",
    "    return results\n"
   ]
  },
  {
   "cell_type": "code",
   "execution_count": 122,
   "metadata": {},
   "outputs": [
    {
     "name": "stdout",
     "output_type": "stream",
     "text": [
      "[('over', 2052), ('mtdp', 0), ('mtdq', 0), ('mtdr', 0), ('mtds', 0)]\n",
      "[('to', 50452), ('tm', 0), ('tn', 0), ('um', 0), ('un', 0)]\n",
      "[('my', 3920), ('ox', 31), ('mw', 0), ('mx', 0), ('mz', 0)]\n",
      "[('adppp', 0), ('adppq', 0), ('adppr', 0), ('adpps', 0), ('adpqp', 0)]\n",
      "No Suggestions\n",
      "[('ppppp', 0), ('ppppq', 0), ('ppppr', 0), ('pppps', 0), ('pppqp', 0)]\n"
     ]
    },
    {
     "data": {
      "text/plain": [
       "[[('over', 2052), ('mtdp', 0), ('mtdq', 0), ('mtdr', 0), ('mtds', 0)],\n",
       " [('to', 50452), ('tm', 0), ('tn', 0), ('um', 0), ('un', 0)],\n",
       " [('my', 3920), ('ox', 31), ('mw', 0), ('mx', 0), ('mz', 0)],\n",
       " [('adppp', 0), ('adppq', 0), ('adppr', 0), ('adpps', 0), ('adpqp', 0)],\n",
       " [],\n",
       " [('ppppp', 0), ('ppppq', 0), ('ppppr', 0), ('pppps', 0), ('pppqp', 0)]]"
      ]
     },
     "execution_count": 122,
     "metadata": {},
     "output_type": "execute_result"
    }
   ],
   "source": [
    "get_word_suggestions(input_numbers)"
   ]
  },
  {
   "cell_type": "code",
   "execution_count": 126,
   "metadata": {},
   "outputs": [
    {
     "name": "stdout",
     "output_type": "stream",
     "text": [
      "['over', 'mtdp', 'mtdq', 'mtdr', 'mtds']\n",
      "['to', 'tm', 'tn', 'um', 'un']\n",
      "['my', 'ox', 'mw', 'mx', 'mz']\n",
      "['adppp', 'adppq', 'adppr', 'adpps', 'adpqp']\n",
      "No Suggestions\n",
      "['ppppp', 'ppppq', 'ppppr', 'pppps', 'pppqp']\n"
     ]
    },
    {
     "data": {
      "text/plain": [
       "[['over', 'mtdp', 'mtdq', 'mtdr', 'mtds'],\n",
       " ['to', 'tm', 'tn', 'um', 'un'],\n",
       " ['my', 'ox', 'mw', 'mx', 'mz'],\n",
       " ['adppp', 'adppq', 'adppr', 'adpps', 'adpqp'],\n",
       " [],\n",
       " ['ppppp', 'ppppq', 'ppppr', 'pppps', 'pppqp']]"
      ]
     },
     "execution_count": 126,
     "metadata": {},
     "output_type": "execute_result"
    }
   ],
   "source": [
    "# Combine:\n",
    "input_numbers = pd.read_csv('input00.txt', header = None)\n",
    "dictionary_list = pd.read_csv('t9Dictionary', header = None)[0]\n",
    "with open('t9TextCorpus') as f:\n",
    "    corpus = f.read()\n",
    "input_numbers = input_numbers[1:]\n",
    "input_numbers = [str(i) for i in list(input_numbers[0])]\n",
    "\n",
    "import collections\n",
    "corpus_counter = collections.Counter(corpus.split(' '))\n",
    "dictionary = {key: corpus_counter[key] for key in dictionary_list}\n",
    "\n",
    "def letterCombinations(digits):\n",
    "        \n",
    "        keyboard = {'1':'', '2':'abc','3':'def','4':'ghi','5':'jkl','6':'mno','7':'pqrs','8':'tuv','9':'wxyz'}\n",
    "\n",
    "        if not digits: return []\n",
    "        \n",
    "        chars = []\n",
    "        for d in digits:\n",
    "            chars.append(keyboard[d])\n",
    "         \n",
    "        return [\"\".join(c) for c in itertools.product(*chars)]\n",
    "\n",
    "    \n",
    "def get_word_suggestions(input_numbers):\n",
    "    results = []\n",
    "    for digits in input_numbers:\n",
    "        current_list = []\n",
    "        for word in letterCombinations(digits):\n",
    "            current_list.append((word, dictionary.get(word, 0)))\n",
    "        current_list = sorted(current_list, key = lambda x: -x[1])[:5]\n",
    "        new_current_list = [element[0] for element in current_list]\n",
    "        if len(new_current_list) == 0:\n",
    "            print('No Suggestions')\n",
    "        else:\n",
    "            print(new_current_list)\n",
    "        results.append(new_current_list)\n",
    "        \n",
    "    return results\n",
    "\n",
    "get_word_suggestions(input_numbers)"
   ]
  },
  {
   "cell_type": "code",
   "execution_count": 127,
   "metadata": {},
   "outputs": [
    {
     "name": "stdout",
     "output_type": "stream",
     "text": [
      "['u', 'v', 't']\n",
      "['o', 'm', 'n']\n"
     ]
    },
    {
     "data": {
      "text/plain": [
       "[['u', 'v', 't'], ['o', 'm', 'n']]"
      ]
     },
     "execution_count": 127,
     "metadata": {},
     "output_type": "execute_result"
    }
   ],
   "source": [
    "# Enter your code here. Read input from STDIN. Print output to STDOUT\n",
    "import pandas as pd\n",
    "import numpy as np\n",
    "import fileinput\n",
    "import itertools\n",
    "\n",
    "# when read from HackerRank:\n",
    "# temp = []\n",
    "# for f in fileinput.input():\n",
    "#     temp.append(f)\n",
    "    \n",
    "# input_numbers = pd.DataFrame(temp)\n",
    "\n",
    "# input_numbers[input_numbers.columns[0]] = input_numbers[input_numbers.columns[0]].str.replace('\\n', '')\n",
    "\n",
    "\n",
    "# with open('t9Dictionary') as f:\n",
    "#     dictionary_list = f.read()\n",
    "    \n",
    "# with open('t9TextCorpus') as f:\n",
    "#     corpus = f.read()\n",
    "    \n",
    "input_numbers = input_numbers[1:]\n",
    "input_numbers = [str(i) for i in list(input_numbers[0])]\n",
    "\n",
    "import collections\n",
    "corpus_counter = collections.Counter(corpus.split(' '))\n",
    "dictionary = {key: corpus_counter[key] for key in dictionary_list}\n",
    "\n",
    "def letterCombinations(digits):\n",
    "        \n",
    "        keyboard = {'1':'', '2':'abc','3':'def','4':'ghi','5':'jkl','6':'mno','7':'pqrs','8':'tuv','9':'wxyz'}\n",
    "\n",
    "        if not digits: return []\n",
    "        \n",
    "        chars = []\n",
    "        for d in digits:\n",
    "            chars.append(keyboard[d])\n",
    "         \n",
    "        return [\"\".join(c) for c in itertools.product(*chars)]\n",
    "\n",
    "    \n",
    "def get_word_suggestions(input_numbers):\n",
    "    results = []\n",
    "    for digits in input_numbers:\n",
    "        current_list = []\n",
    "        for word in letterCombinations(digits):\n",
    "            current_list.append((word, dictionary.get(word, 0)))\n",
    "        current_list = sorted(current_list, key = lambda x: -x[1])[:5]\n",
    "        new_current_list = [element[0] for element in current_list]\n",
    "        if len(new_current_list) == 0:\n",
    "            print('No Suggestions')\n",
    "        else:\n",
    "            print(new_current_list)\n",
    "        results.append(new_current_list)\n",
    "    return results\n",
    "\n",
    "get_word_suggestions(input_numbers)"
   ]
  },
  {
   "cell_type": "code",
   "execution_count": null,
   "metadata": {},
   "outputs": [],
   "source": []
  }
 ],
 "metadata": {
  "kernelspec": {
   "display_name": "Python 3",
   "language": "python",
   "name": "python3"
  },
  "language_info": {
   "codemirror_mode": {
    "name": "ipython",
    "version": 3
   },
   "file_extension": ".py",
   "mimetype": "text/x-python",
   "name": "python",
   "nbconvert_exporter": "python",
   "pygments_lexer": "ipython3",
   "version": "3.7.1"
  }
 },
 "nbformat": 4,
 "nbformat_minor": 2
}
