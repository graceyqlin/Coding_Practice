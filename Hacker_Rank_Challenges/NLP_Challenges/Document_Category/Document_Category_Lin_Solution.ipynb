{
 "cells": [
  {
   "cell_type": "code",
   "execution_count": 1,
   "metadata": {},
   "outputs": [],
   "source": [
    "# Hacker Rank Link:\n",
    "# https://www.hackerrank.com/challenges/document-classification/problem"
   ]
  },
  {
   "cell_type": "markdown",
   "metadata": {},
   "source": [
    "You have been given a stack of documents that have already been processed and some that have not. Your task is to classify these documents into one of eight categories: [1,2,3,...8]. You look at the specifications on what a document must contain and are baffled by the jargon. However, you notice that you already have a large amount of documents which have already been correctly categorize (training data). You decide to use Machine Learning on this data in order to categorize the uncategorized documents.\n",
    "\n",
    "Training Data\n",
    "\n",
    "In order to figure out what category each document should fall under you will base it on the categories of the documents in the \"trainingdata.txt\" file. This file will be included with your program at runtime and will be named \"trainingdata.txt\".\n",
    "\n",
    "The file is formatted as follows:\n",
    "\n",
    "The first line contains the number of lines that will follow.\n",
    "\n",
    "Each following line will contain a number (1-8), which is the category number. The number will be followed by a space then some space seperated words which is the processed document.\n",
    "\n",
    "Input\n",
    "\n",
    "The first line in the input file will contain T the number of documents. T lines will follow each containing a series of space seperated words which represents the processed document.\n",
    "\n",
    "Output\n",
    "\n",
    "For each document output a number between 1-8 which you believe this document should be categorized as.\n",
    "\n",
    "Sample Input\n",
    "\n",
    "3\n",
    "This is a document\n",
    "this is another document\n",
    "documents are seperated by newlines\n",
    "\n",
    "Sample Output\n",
    "\n",
    "1\n",
    "4\n",
    "8\n",
    "\n",
    "Scoring\n",
    "\n",
    "Your score for this challenge will be 100* (#correctly categorized - #incorrectly categorized)/(T)."
   ]
  },
  {
   "cell_type": "code",
   "execution_count": 64,
   "metadata": {},
   "outputs": [],
   "source": [
    "import sys\n",
    "import warnings\n",
    "warnings.simplefilter(action='ignore', category=FutureWarning)\n",
    "\n",
    "import numpy as np\n",
    "import pandas as pd\n",
    "import matplotlib.pyplot as plt\n",
    "import seaborn as sns\n",
    "\n",
    "from sklearn import pipeline\n",
    "from sklearn.feature_extraction.text import TfidfVectorizer\n",
    "from sklearn.model_selection import train_test_split, GridSearchCV, ShuffleSplit\n",
    "from sklearn.metrics import classification_report, accuracy_score\n",
    "from sklearn.linear_model import LogisticRegression, SGDClassifier\n",
    "from sklearn.naive_bayes import MultinomialNB"
   ]
  },
  {
   "cell_type": "code",
   "execution_count": 3,
   "metadata": {},
   "outputs": [],
   "source": [
    "def load_training_data(filename):\n",
    "    df = pd.read_fwf(filename, delim_whitespace = True, header = None)\n",
    "    df = df.rename(columns = {df.columns[0]:'text'})\n",
    "    df = df[['text']][1:]\n",
    "    df = pd.DataFrame(df['text'].str.split(\" \", 1).tolist(), columns = ['category','text'])\n",
    "    train_set, validation_set = train_test_split(df, test_size=.2)\n",
    "    y_train = train_set['category']\n",
    "    x_train = train_set['text']\n",
    "    y_validation = validation_set['category']\n",
    "    x_validation = validation_set['text']\n",
    "    return x_train, y_train, x_validation, y_validation"
   ]
  },
  {
   "cell_type": "code",
   "execution_count": 4,
   "metadata": {},
   "outputs": [],
   "source": [
    "def load_new_input_data(filename):\n",
    "    df = pd.read_fwf(filename, delim_whitespace = True, header = None)\n",
    "    df = df.rename(columns = {df.columns[0]:'text'})\n",
    "    df = df[['text']][1:]\n",
    "    x = df['text']\n",
    "    return x"
   ]
  },
  {
   "cell_type": "code",
   "execution_count": 5,
   "metadata": {},
   "outputs": [],
   "source": [
    "def vectorize_training_data(x):\n",
    "        vectorizer = TfidfVectorizer(stop_words='english', ngram_range=(1, 1),\n",
    "                              strip_accents='ascii', lowercase=True)\n",
    "        x_vectorized = vectorizer.fit_transform(x)\n",
    "        return x_vectorized, vectorizer   "
   ]
  },
  {
   "cell_type": "code",
   "execution_count": 6,
   "metadata": {},
   "outputs": [],
   "source": [
    "def vectorize_testing_data(x_test, vectorizer):\n",
    "    x_test_vectorized = vectorizer.transform(x_test)\n",
    "    return x_test_vectorized"
   ]
  },
  {
   "cell_type": "code",
   "execution_count": 7,
   "metadata": {},
   "outputs": [],
   "source": [
    "def train_model(classifier,x_vectorized, y):\n",
    "        model = classifier\n",
    "        targets = y\n",
    "        model.fit(x_vectorized, y)\n",
    "        return classifier"
   ]
  },
  {
   "cell_type": "code",
   "execution_count": 8,
   "metadata": {},
   "outputs": [],
   "source": [
    "def evaluate(model, x_validation_vectorized, y_validation):\n",
    "        predictions = model.predict(x_validation_vectorized)\n",
    "        print (classification_report(y_validation, predictions))\n",
    "        print (\"The accuracy score is {:.2%}\".format(accuracy_score(y_validation, predictions)))"
   ]
  },
  {
   "cell_type": "code",
   "execution_count": 9,
   "metadata": {},
   "outputs": [],
   "source": [
    "def find_best_parameter(input_model, param_grid, x_train_vectorized, y_train):\n",
    "    cv_sets = ShuffleSplit(n_splits = 2, test_size = .33, random_state = 1)\n",
    "    grid_search = GridSearchCV(estimator=input_model, param_grid=param_grid, cv = cv_sets, scoring='accuracy')\n",
    "    grid_search.fit(x_train_vectorized, y_train)\n",
    "    best_model = grid_search.best_estimator_\n",
    "    return best_model"
   ]
  },
  {
   "cell_type": "code",
   "execution_count": 11,
   "metadata": {},
   "outputs": [],
   "source": [
    "x_train, y_train, x_validation, y_validation = load_training_data('data/trainingdata.txt')\n",
    "\n",
    "x_train_vectorized, vectorizer = vectorize_training_data(x_train)\n",
    "\n",
    "x_validation_vectorized = vectorize_testing_data(x_validation, vectorizer)"
   ]
  },
  {
   "cell_type": "code",
   "execution_count": 36,
   "metadata": {},
   "outputs": [
    {
     "name": "stdout",
     "output_type": "stream",
     "text": [
      "              precision    recall  f1-score   support\n",
      "\n",
      "           1       0.99      0.97      0.98       567\n",
      "           2       0.85      0.99      0.91       313\n",
      "           3       1.00      0.96      0.98        56\n",
      "           4       1.00      0.32      0.48        19\n",
      "           5       0.00      0.00      0.00         9\n",
      "           6       0.98      0.91      0.94        54\n",
      "           7       0.85      0.72      0.78        39\n",
      "           8       0.90      0.70      0.79        40\n",
      "\n",
      "   micro avg       0.94      0.94      0.94      1097\n",
      "   macro avg       0.82      0.70      0.73      1097\n",
      "weighted avg       0.93      0.94      0.93      1097\n",
      "\n",
      "The accuracy score is 93.53%\n"
     ]
    }
   ],
   "source": [
    "model1 = LogisticRegression()\n",
    "model = train_model(model1,x_train_vectorized, y_train)\n",
    "evaluate(model, x_validation_vectorized, y_validation)"
   ]
  },
  {
   "cell_type": "code",
   "execution_count": 76,
   "metadata": {},
   "outputs": [
    {
     "data": {
      "text/plain": [
       "{1.0, 2.0, 3.0, 4.0, 6.0, 7.0, 8.0}"
      ]
     },
     "execution_count": 76,
     "metadata": {},
     "output_type": "execute_result"
    }
   ],
   "source": [
    "y_validation_pred = model.predict(x_validation_vectorized).astype('float')\n",
    "y_validation = y_validation.astype('float')"
   ]
  },
  {
   "cell_type": "code",
   "execution_count": 85,
   "metadata": {},
   "outputs": [
    {
     "name": "stdout",
     "output_type": "stream",
     "text": [
      "              precision    recall  f1-score   support\n",
      "\n",
      "         1.0       0.97      0.99      0.98       557\n",
      "         2.0       0.99      0.85      0.91       366\n",
      "         3.0       0.96      1.00      0.98        54\n",
      "         4.0       0.32      1.00      0.48         6\n",
      "         5.0       0.00      0.00      0.00         0\n",
      "         6.0       0.91      0.98      0.94        50\n",
      "         7.0       0.72      0.85      0.78        33\n",
      "         8.0       0.70      0.90      0.79        31\n",
      "\n",
      "   micro avg       0.94      0.94      0.94      1097\n",
      "   macro avg       0.70      0.82      0.73      1097\n",
      "weighted avg       0.96      0.94      0.94      1097\n",
      "\n"
     ]
    },
    {
     "name": "stderr",
     "output_type": "stream",
     "text": [
      "/Users/lin/anaconda3/lib/python3.7/site-packages/sklearn/metrics/classification.py:1145: UndefinedMetricWarning: Recall and F-score are ill-defined and being set to 0.0 in labels with no true samples.\n",
      "  'recall', 'true', average, warn_for)\n",
      "/Users/lin/anaconda3/lib/python3.7/site-packages/sklearn/metrics/classification.py:1145: UndefinedMetricWarning: Recall and F-score are ill-defined and being set to 0.0 in labels with no true samples.\n",
      "  'recall', 'true', average, warn_for)\n",
      "/Users/lin/anaconda3/lib/python3.7/site-packages/sklearn/metrics/classification.py:1145: UndefinedMetricWarning: Recall and F-score are ill-defined and being set to 0.0 in labels with no true samples.\n",
      "  'recall', 'true', average, warn_for)\n"
     ]
    }
   ],
   "source": [
    "print(classification_report(y_validation_pred, y_validation))"
   ]
  },
  {
   "cell_type": "markdown",
   "metadata": {},
   "source": [
    "note: the warning is because the percentage of 5 in the original dataset is too small so when print the classification report, it does not know how to present the result for 5. "
   ]
  },
  {
   "cell_type": "code",
   "execution_count": 83,
   "metadata": {},
   "outputs": [
    {
     "data": {
      "text/plain": [
       "0.935278030993619"
      ]
     },
     "execution_count": 83,
     "metadata": {},
     "output_type": "execute_result"
    }
   ],
   "source": [
    "accuracy_score(y_validation_pred, y_validation)"
   ]
  },
  {
   "cell_type": "code",
   "execution_count": 90,
   "metadata": {},
   "outputs": [
    {
     "data": {
      "image/png": "[encoded data removed]",
      "text/plain": [
       "<Figure size 432x288 with 1 Axes>"
      ]
     },
     "metadata": {
      "needs_background": "light"
     },
     "output_type": "display_data"
    }
   ],
   "source": [
    "# first you need to convert to numpy array and float/str so as to plot histgram\n",
    "y_train = np.array(y_train)\n",
    "y_train = y_train.astype('float')\n",
    "\n",
    "plt.hist(y_train)\n",
    "plt.show()"
   ]
  },
  {
   "cell_type": "code",
   "execution_count": 74,
   "metadata": {},
   "outputs": [
    {
     "data": {
      "image/png": "[encoded data removed]",
      "text/plain": [
       "<Figure size 432x288 with 1 Axes>"
      ]
     },
     "metadata": {
      "needs_background": "light"
     },
     "output_type": "display_data"
    }
   ],
   "source": [
    "\n",
    "sns.distplot(y_train)\n",
    "plt.show()"
   ]
  },
  {
   "cell_type": "markdown",
   "metadata": {},
   "source": [
    "we can see the percentage of 5 is too small so it does not predict well"
   ]
  },
  {
   "cell_type": "code",
   "execution_count": 33,
   "metadata": {},
   "outputs": [
    {
     "name": "stdout",
     "output_type": "stream",
     "text": [
      "              precision    recall  f1-score   support\n",
      "\n",
      "           1       0.99      0.98      0.98       567\n",
      "           2       0.93      0.99      0.96       313\n",
      "           3       1.00      0.95      0.97        56\n",
      "           4       0.95      0.95      0.95        19\n",
      "           5       1.00      0.67      0.80         9\n",
      "           6       0.98      0.94      0.96        54\n",
      "           7       0.84      0.79      0.82        39\n",
      "           8       0.84      0.80      0.82        40\n",
      "\n",
      "   micro avg       0.96      0.96      0.96      1097\n",
      "   macro avg       0.94      0.88      0.91      1097\n",
      "weighted avg       0.96      0.96      0.96      1097\n",
      "\n",
      "The accuracy score is 96.17%\n"
     ]
    }
   ],
   "source": [
    "# grid search for best C\n",
    "param_grid={'C': [0.01, 0.1, 1, 10]}\n",
    "model = find_best_parameter(model1, param_grid, x_train_vectorized, y_train)\n",
    "evaluate(model, x_validation_vectorized, y_validation)"
   ]
  },
  {
   "cell_type": "code",
   "execution_count": 34,
   "metadata": {},
   "outputs": [
    {
     "name": "stdout",
     "output_type": "stream",
     "text": [
      "              precision    recall  f1-score   support\n",
      "\n",
      "           1       0.99      0.98      0.99       567\n",
      "           2       0.95      0.99      0.97       313\n",
      "           3       1.00      0.93      0.96        56\n",
      "           4       1.00      1.00      1.00        19\n",
      "           5       1.00      0.89      0.94         9\n",
      "           6       0.96      0.94      0.95        54\n",
      "           7       0.83      0.87      0.85        39\n",
      "           8       0.84      0.78      0.81        40\n",
      "\n",
      "   micro avg       0.97      0.97      0.97      1097\n",
      "   macro avg       0.95      0.92      0.93      1097\n",
      "weighted avg       0.97      0.97      0.97      1097\n",
      "\n",
      "The accuracy score is 96.81%\n"
     ]
    }
   ],
   "source": [
    "model2 = SGDClassifier()\n",
    "model = train_model(model2,x_train_vectorized, y_train)\n",
    "evaluate(model, x_validation_vectorized, y_validation)"
   ]
  },
  {
   "cell_type": "code",
   "execution_count": 35,
   "metadata": {},
   "outputs": [
    {
     "name": "stdout",
     "output_type": "stream",
     "text": [
      "              precision    recall  f1-score   support\n",
      "\n",
      "           1       0.87      0.99      0.92       567\n",
      "           2       0.79      0.96      0.87       313\n",
      "           3       1.00      0.62      0.77        56\n",
      "           4       0.00      0.00      0.00        19\n",
      "           5       0.00      0.00      0.00         9\n",
      "           6       1.00      0.41      0.58        54\n",
      "           7       1.00      0.10      0.19        39\n",
      "           8       1.00      0.42      0.60        40\n",
      "\n",
      "   micro avg       0.85      0.85      0.85      1097\n",
      "   macro avg       0.71      0.44      0.49      1097\n",
      "weighted avg       0.85      0.85      0.82      1097\n",
      "\n",
      "The accuracy score is 85.32%\n"
     ]
    },
    {
     "name": "stderr",
     "output_type": "stream",
     "text": [
      "/Users/lin/anaconda3/lib/python3.7/site-packages/sklearn/metrics/classification.py:1143: UndefinedMetricWarning: Precision and F-score are ill-defined and being set to 0.0 in labels with no predicted samples.\n",
      "  'precision', 'predicted', average, warn_for)\n"
     ]
    }
   ],
   "source": [
    "model3 = MultinomialNB()\n",
    "model = train_model(model3,x_train_vectorized, y_train)\n",
    "evaluate(model, x_validation_vectorized, y_validation)"
   ]
  },
  {
   "cell_type": "code",
   "execution_count": 20,
   "metadata": {},
   "outputs": [],
   "source": [
    "x_test = load_new_input_data('stdin.txt')\n",
    "\n",
    "x_test_vectorized = vectorize_testing_data(x_test, vectorizer) "
   ]
  },
  {
   "cell_type": "code",
   "execution_count": 21,
   "metadata": {},
   "outputs": [
    {
     "name": "stdout",
     "output_type": "stream",
     "text": [
      "1\n",
      "1\n",
      "2\n"
     ]
    }
   ],
   "source": [
    "for line in model.predict(x_test_vectorized):\n",
    "    print(line)"
   ]
  },
  {
   "cell_type": "code",
   "execution_count": 5,
   "metadata": {},
   "outputs": [],
   "source": [
    "\n",
    "# # when we are running in hacker rank:\n",
    "# import fileinput \n",
    "\n",
    "# def load_hacker_rank_input():\n",
    "#     temp = []  \n",
    "    \n",
    "#     for f in fileinput.input(): \n",
    "#         temp.append(f)\n",
    "    \n",
    "#     df = pd.DataFrame(temp)\n",
    "#     df = df.rename(columns = {df.columns[0]:'text'})\n",
    "#     df['text'] = df['text'].str.replace('\\n', '')\n",
    "#     df = df[['text']][1:]\n",
    "#     x = df['text']\n",
    "#     return x\n",
    "\n",
    "# x_test = load_hacker_rank_input()\n",
    "\n",
    "# x_test_vectorized = vectorize_testing_data(x_test, vectorizer)\n",
    "\n",
    "# for line in model.predict(x_test_vectorized):\n",
    "#     print(line)"
   ]
  }
 ],
 "metadata": {
  "kernelspec": {
   "display_name": "Python 3",
   "language": "python",
   "name": "python3"
  },
  "language_info": {
   "codemirror_mode": {
    "name": "ipython",
    "version": 3
   },
   "file_extension": ".py",
   "mimetype": "text/x-python",
   "name": "python",
   "nbconvert_exporter": "python",
   "pygments_lexer": "ipython3",
   "version": "3.7.1"
  }
 },
 "nbformat": 4,
 "nbformat_minor": 2
}
