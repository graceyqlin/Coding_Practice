{
 "cells": [
  {
   "cell_type": "markdown",
   "metadata": {},
   "source": [
    "https://www.hackerrank.com/challenges/from-paragraphs-to-sentences/problem"
   ]
  },
  {
   "cell_type": "markdown",
   "metadata": {},
   "source": [
    "An Introduction to Sentence Segmentation\n",
    "\n",
    "Sentence segmentation, means, to split a given paragraph of text into sentences, by identifying the sentence boundaries. In many cases, a full stop is all that is required to identify the end of a sentence, but the task is not all that simple.\n",
    "\n",
    "This is an open ended challenge to which there are no perfect solutions. Try to break up given paragraphs into text into individual sentences. Even if you don't manage to segment the text perfectly, the more sentences you identify and display correctly, the more you will score.\n",
    "\n",
    "Abbreviations: Dr. W. Watson is amazing. In this case, the first and second \".\" occurs after Dr (Doctor) and W (initial in the person's name) and should not be confused as the end of the sentence.\n",
    "\n",
    "Sentences enclosed in quotes: \"What good are they? They're led about just for show!\" remarked another. All of this, should be identified as just one sentence.\n",
    "\n",
    "Questions and exclamations: Who is it? -This is a question. This should be identified as a sentence. I am tired!: Something which has been exclaimed. This should also be identified as a sentence.\n",
    "\n",
    "INPUT FORMAT\n",
    "\n",
    "You will be given a chunk of text, containing several sentences, questions, statements and exclamations- all in 1 line."
   ]
  },
  {
   "cell_type": "code",
   "execution_count": 18,
   "metadata": {},
   "outputs": [
    {
     "name": "stdout",
     "output_type": "stream",
     "text": [
      "In the third category he included those Brothers (the majority) who saw nothing in Freemasonry but the external forms and ceremonies, and prized the strict performance of these forms without troubling about their purport or significance. Such were Willarski and even the Grand Master of the principal lodge. Finally, to the fourth category also a great many Brothers belonged, particularly those who had lately joined. These according to Pierre's observations were men who had no belief in anything, nor desire for anything, but joined the Freemasons merely to associate with the wealthy young Brothers who were influential through their connections or rank, and of whom there were very many in the lodge.Pierre began to feel dissatisfied with what he was doing. Freemasonry, at any rate as he saw it here, sometimes seemed to him based merely on externals. He did not think of doubting Freemasonry itself, but suspected that Russian Masonry had taken a wrong path and deviated from its original principles. And so toward the end of the year he went abroad to be initiated into the higher secrets of the order.What is to be done in these circumstances? To favor revolutions, overthrow everything, repel force by force?No! We are very far from that. Every violent reform deserves censure, for it quite fails to remedy evil while men remain what they are, and also because wisdom needs no violence. \"But what is there in running across it like that?\" said Ilagin's groom. \"Once she had missed it and turned it away, any mongrel could take it,\" Ilagin was saying at the same time, breathless from his gallop and his excitement. \n"
     ]
    }
   ],
   "source": [
    "with open('input00.txt', 'r') as text:\n",
    "    textfile = text.read()\n",
    "    print(textfile)"
   ]
  },
  {
   "cell_type": "code",
   "execution_count": 48,
   "metadata": {},
   "outputs": [
    {
     "name": "stdout",
     "output_type": "stream",
     "text": [
      "In the third category he included those Brothers (the majority) who saw nothing in Freemasonry but the external forms and ceremonies, and prized the strict performance of these forms without troubling about their purport or significance.\n",
      "Such were Willarski and even the Grand Master of the principal lodge.\n",
      "Finally, to the fourth category also a great many Brothers belonged, particularly those who had lately joined.\n",
      "These according to Pierre's observations were men who had no belief in anything, nor desire for anything, but joined the Freemasons merely to associate with the wealthy young Brothers who were influential through their connections or rank, and of whom there were very many in the lodge.\n",
      "ierre began to feel dissatisfied with what he was doing.\n",
      "Freemasonry, at any rate as he saw it here, sometimes seemed to him based merely on externals.\n",
      "He did not think of doubting Freemasonry itself, but suspected that Russian Masonry had taken a wrong path and deviated from its original principles.\n",
      "And so toward the end of the year he went abroad to be initiated into the higher secrets of the order.\n",
      "hat is to be done in these circumstances?\n",
      "To favor revolutions, overthrow everything, repel force by force?\n",
      "o!\n",
      "We are very far from that.\n",
      "Every violent reform deserves censure, for it quite fails to remedy evil while men remain what they are, and also because wisdom needs no violence.\n",
      "\"But what is there in running across it like that?\n",
      " said Ilagin's groom.\n",
      "\"Once she had missed it and turned it away, any mongrel could take it,\" Ilagin was saying at the same time, breathless from his gallop and his excitement.\n"
     ]
    }
   ],
   "source": [
    "\n",
    "double_quote_open = False\n",
    "single_quote_open = False\n",
    "\n",
    "letter_list = list(textfile)\n",
    "\n",
    "end_index_list = []\n",
    "end_index_list.append(-2)\n",
    "\n",
    "for i, letter in enumerate(letter_list):\n",
    "    if i == 0 or i == len(letter_list) - 1:\n",
    "        continue\n",
    "    else:\n",
    "        prev_letter = letter_list[i-1]\n",
    "        after_letter = letter_list[i+1]\n",
    "        \n",
    "        if letter == '\"' and prev_letter == ' ':\n",
    "            doulbe_quote_open = True\n",
    "            \n",
    "        elif letter == '\"' and after_letter == ' ':\n",
    "            doulbe_quote_open = False\n",
    "            if prev_letter == '.':\n",
    "                end_index_list.append(i)\n",
    "                \n",
    "        elif letter == \"'\" and prev_letter == ' ':\n",
    "            single_quote_open = True      \n",
    "            \n",
    "        elif letter == \"'\" and after_letter == ' ':\n",
    "            single_quote_open = False\n",
    "            if prev_letter == '.':\n",
    "                end_index_list.append(i)\n",
    "        \n",
    "        elif (letter == '.' or letter == '?' or letter == '!') and (not double_quote_open and not single_quote_open):\n",
    "            end_index_list.append(i)\n",
    "            \n",
    "\n",
    "\n",
    "for k in range(len(end_index_list)-1):\n",
    "    start_index = end_index_list[k]+2\n",
    "    end_index = end_index_list[k+1]+1\n",
    "    print(textfile[start_index:end_index])\n"
   ]
  },
  {
   "cell_type": "code",
   "execution_count": null,
   "metadata": {},
   "outputs": [],
   "source": []
  }
 ],
 "metadata": {
  "kernelspec": {
   "display_name": "Python 3",
   "language": "python",
   "name": "python3"
  },
  "language_info": {
   "codemirror_mode": {
    "name": "ipython",
    "version": 3
   },
   "file_extension": ".py",
   "mimetype": "text/x-python",
   "name": "python",
   "nbconvert_exporter": "python",
   "pygments_lexer": "ipython3",
   "version": "3.7.1"
  }
 },
 "nbformat": 4,
 "nbformat_minor": 2
}
