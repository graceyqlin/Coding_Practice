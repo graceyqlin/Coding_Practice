{
 "cells": [
  {
   "cell_type": "markdown",
   "metadata": {},
   "source": [
    "https://www.hackerrank.com/challenges/stitch-the-torn-wiki/problem"
   ]
  },
  {
   "cell_type": "markdown",
   "metadata": {},
   "source": [
    "Text blocks which are approximately 500 to 1000 words in length are picked up from N different Wikipedia articles. Every block of text has been picked up from a unique Wikipedia article, about a well known person or place.\n",
    "\n",
    "Each of these text blocks is split into two parts of roughly equal length.\n",
    "\n",
    "The first (starting) part obtained after splitting is placed in Set A which will hold all the starting blocks. The second part of the block, is placed in Set B which will contain the second part for all the text fragments which we selected. Both the Sets A and B are shuffled up, and the ordering of elements is lost.\n",
    "\n",
    "Your task is to identify, for each text fragment (a) in Set A, which is the correct, corresponding text fragment (b) in Set B, such that both a and b were in the same text block initially.\n",
    "\n",
    "Getting started - Think about using the vector space model\n"
   ]
  },
  {
   "cell_type": "code",
   "execution_count": 1,
   "metadata": {},
   "outputs": [],
   "source": [
    "import pandas as pd\n",
    "import numpy as np\n",
    "\n",
    "import sklearn.feature_extraction.text\n",
    "from sklearn.feature_extraction.text import TfidfVectorizer\n",
    "\n",
    "import sklearn.metrics\n",
    "from sklearn.metrics.pairwise import cosine_similarity"
   ]
  },
  {
   "cell_type": "code",
   "execution_count": 2,
   "metadata": {},
   "outputs": [],
   "source": [
    "df = pd.read_fwf('input00.txt', header = None)"
   ]
  },
  {
   "cell_type": "code",
   "execution_count": 3,
   "metadata": {},
   "outputs": [],
   "source": [
    "num_document = int(df[0][0])"
   ]
  },
  {
   "cell_type": "code",
   "execution_count": 4,
   "metadata": {},
   "outputs": [],
   "source": [
    "set_a = df[1:num_document+1][[0]]\n",
    "set_b = df[num_document+2:][[0]]"
   ]
  },
  {
   "cell_type": "code",
   "execution_count": 5,
   "metadata": {},
   "outputs": [
    {
     "data": {
      "text/html": [
       "<div>\n",
       "<style scoped>\n",
       "    .dataframe tbody tr th:only-of-type {\n",
       "        vertical-align: middle;\n",
       "    }\n",
       "\n",
       "    .dataframe tbody tr th {\n",
       "        vertical-align: top;\n",
       "    }\n",
       "\n",
       "    .dataframe thead th {\n",
       "        text-align: right;\n",
       "    }\n",
       "</style>\n",
       "<table border=\"1\" class=\"dataframe\">\n",
       "  <thead>\n",
       "    <tr style=\"text-align: right;\">\n",
       "      <th></th>\n",
       "      <th>0</th>\n",
       "    </tr>\n",
       "  </thead>\n",
       "  <tbody>\n",
       "    <tr>\n",
       "      <th>22</th>\n",
       "      <td>The demonym for a Moscow resident is \"\" (moskv...</td>\n",
       "    </tr>\n",
       "    <tr>\n",
       "      <th>23</th>\n",
       "      <td>Less than two years later in 1965, Singapore w...</td>\n",
       "    </tr>\n",
       "    <tr>\n",
       "      <th>24</th>\n",
       "      <td>Hong Kong has one of the highest per capita in...</td>\n",
       "    </tr>\n",
       "    <tr>\n",
       "      <th>25</th>\n",
       "      <td>Frankfurt Airport is one of the world's busies...</td>\n",
       "    </tr>\n",
       "    <tr>\n",
       "      <th>26</th>\n",
       "      <td>The finial is topped by a moon, a typical Isla...</td>\n",
       "    </tr>\n",
       "    <tr>\n",
       "      <th>27</th>\n",
       "      <td>Paris is home to the association football club...</td>\n",
       "    </tr>\n",
       "    <tr>\n",
       "      <th>28</th>\n",
       "      <td>Kuala Lumpur has its origins in the 1850s, whe...</td>\n",
       "    </tr>\n",
       "    <tr>\n",
       "      <th>29</th>\n",
       "      <td>It is supposed that Pisa was founded on the sh...</td>\n",
       "    </tr>\n",
       "    <tr>\n",
       "      <th>30</th>\n",
       "      <td>The Thames Barrier was completed in the 1980s ...</td>\n",
       "    </tr>\n",
       "    <tr>\n",
       "      <th>31</th>\n",
       "      <td>The country became a presidential republic in ...</td>\n",
       "    </tr>\n",
       "    <tr>\n",
       "      <th>32</th>\n",
       "      <td>Famous landmarks in Colombo include the Galle ...</td>\n",
       "    </tr>\n",
       "    <tr>\n",
       "      <th>33</th>\n",
       "      <td>The Globalization and World Cities Study Group...</td>\n",
       "    </tr>\n",
       "    <tr>\n",
       "      <th>34</th>\n",
       "      <td>The same word may be found in the name of the ...</td>\n",
       "    </tr>\n",
       "    <tr>\n",
       "      <th>35</th>\n",
       "      <td>The name \"Chicago\" is derived from a French re...</td>\n",
       "    </tr>\n",
       "    <tr>\n",
       "      <th>36</th>\n",
       "      <td>One of the five founding members of the Associ...</td>\n",
       "    </tr>\n",
       "    <tr>\n",
       "      <th>37</th>\n",
       "      <td>London had an official population of 8,174,100...</td>\n",
       "    </tr>\n",
       "    <tr>\n",
       "      <th>38</th>\n",
       "      <td>Delhi was captured and sacked by Timur Lenk in...</td>\n",
       "    </tr>\n",
       "    <tr>\n",
       "      <th>39</th>\n",
       "      <td>Venezuela is among the most urbanized countrie...</td>\n",
       "    </tr>\n",
       "    <tr>\n",
       "      <th>40</th>\n",
       "      <td>European and Arab presence in Mombasa dates to...</td>\n",
       "    </tr>\n",
       "    <tr>\n",
       "      <th>41</th>\n",
       "      <td>New York became the 11th state to ratify the U...</td>\n",
       "    </tr>\n",
       "  </tbody>\n",
       "</table>\n",
       "</div>"
      ],
      "text/plain": [
       "                                                    0\n",
       "22  The demonym for a Moscow resident is \"\" (moskv...\n",
       "23  Less than two years later in 1965, Singapore w...\n",
       "24  Hong Kong has one of the highest per capita in...\n",
       "25  Frankfurt Airport is one of the world's busies...\n",
       "26  The finial is topped by a moon, a typical Isla...\n",
       "27  Paris is home to the association football club...\n",
       "28  Kuala Lumpur has its origins in the 1850s, whe...\n",
       "29  It is supposed that Pisa was founded on the sh...\n",
       "30  The Thames Barrier was completed in the 1980s ...\n",
       "31  The country became a presidential republic in ...\n",
       "32  Famous landmarks in Colombo include the Galle ...\n",
       "33  The Globalization and World Cities Study Group...\n",
       "34  The same word may be found in the name of the ...\n",
       "35  The name \"Chicago\" is derived from a French re...\n",
       "36  One of the five founding members of the Associ...\n",
       "37  London had an official population of 8,174,100...\n",
       "38  Delhi was captured and sacked by Timur Lenk in...\n",
       "39  Venezuela is among the most urbanized countrie...\n",
       "40  European and Arab presence in Mombasa dates to...\n",
       "41  New York became the 11th state to ratify the U..."
      ]
     },
     "execution_count": 5,
     "metadata": {},
     "output_type": "execute_result"
    }
   ],
   "source": [
    "set_b"
   ]
  },
  {
   "cell_type": "code",
   "execution_count": 6,
   "metadata": {},
   "outputs": [],
   "source": [
    "corpus = set_a.append(set_b)\n",
    "corpus = corpus[0]"
   ]
  },
  {
   "cell_type": "code",
   "execution_count": 7,
   "metadata": {},
   "outputs": [],
   "source": [
    "vectorizer = TfidfVectorizer()\n",
    "corpus_tfidf = vectorizer.fit_transform(corpus)"
   ]
  },
  {
   "cell_type": "code",
   "execution_count": 13,
   "metadata": {},
   "outputs": [
    {
     "data": {
      "text/plain": [
       "array([[0.30729882]])"
      ]
     },
     "execution_count": 13,
     "metadata": {},
     "output_type": "execute_result"
    }
   ],
   "source": [
    "cosine_similarity(vectorized_a_list[0], vectorized_b_list[0])"
   ]
  },
  {
   "cell_type": "code",
   "execution_count": 28,
   "metadata": {},
   "outputs": [
    {
     "name": "stdout",
     "output_type": "stream",
     "text": [
      "7\n",
      "11\n",
      "10\n",
      "5\n",
      "3\n",
      "4\n",
      "14\n",
      "1\n",
      "20\n",
      "16\n",
      "15\n",
      "13\n",
      "8\n",
      "18\n",
      "9\n",
      "6\n",
      "2\n",
      "17\n",
      "12\n",
      "19\n"
     ]
    }
   ],
   "source": [
    "import pandas as pd\n",
    "import numpy as np\n",
    "\n",
    "from sklearn.feature_extraction.text import TfidfVectorizer\n",
    "\n",
    "from sklearn.metrics.pairwise import cosine_similarity\n",
    "\n",
    "\n",
    "# import fileinput\n",
    "# temp = []\n",
    "# for f in fileinput.input():\n",
    "#     temp.append(f)\n",
    "# df = pd.DataFrame(temp)\n",
    "\n",
    "# df = pd.read_fwf('input00.txt', header = None)\n",
    "num_document = int(df[0][0])\n",
    "\n",
    "set_a = df[1:num_document+1][[0]]\n",
    "set_b = df[num_document+2:][[0]]\n",
    "\n",
    "corpus = set_a.append(set_b)\n",
    "corpus = corpus[0]\n",
    "\n",
    "vectorizer = TfidfVectorizer()\n",
    "corpus_tfidf = vectorizer.fit_transform(corpus)\n",
    "\n",
    "vectorized_a_list = vectorizer.transform(set_a[0])\n",
    "vectorized_b_list = vectorizer.transform(set_b[0])\n",
    "\n",
    "\n",
    "solution = {}\n",
    "# for example solution[22] = 1\n",
    "\n",
    "# matrix = [[0] * num_document for _ in range(num_document)]\n",
    "a_index_b_index_score = []\n",
    "\n",
    "for i in range(num_document):\n",
    "    for j in range(num_document):\n",
    "        similar_score = cosine_similarity(vectorized_a_list[i], vectorized_b_list[j])[0][0]\n",
    "        a_index_b_index_score.append((i+1, j + num_document + 2, similar_score))\n",
    "\n",
    "a_index_b_index_score = sorted(a_index_b_index_score, key = lambda x: -x[2])\n",
    "\n",
    "for a_index, b_index, score in a_index_b_index_score:\n",
    "    if b_index not in solution and a_index not in solution.values():\n",
    "        solution[b_index] = a_index\n",
    "        if len(solution.values()) == len(set_a):\n",
    "            break\n",
    "\n",
    "for b_index in range(num_document + 2,2* num_document + 2):\n",
    "    print(solution[b_index])\n",
    "\n"
   ]
  },
  {
   "cell_type": "code",
   "execution_count": 122,
   "metadata": {},
   "outputs": [
    {
     "data": {
      "text/plain": [
       "'It is supposed that Pisa was founded on the shore. However, due to the alluvial sediments from the Arno and the Serchio, the shore moved west. Strabo states that the city was 2.5 miles (4.0 km) away from the coast. Currently, it is located 6 miles (9.7 km) from the coast. However it was a maritime city, with ships sailing up the Arno.During the later years of the Roman Empire, Pisa did not decline as much as the other cities of Italy, probably thanks to the complexity of its river system and its consequent ease of defence. In the 7th century Pisa helped Pope Gregory I by supplying numerous ships in his military expedition against the Byzantines of Ravenna: Pisa was the sole Byzantine centre of Tuscia to fall peacefully in Lombard hands, through assimilation with the neighbouring region where their trading interests were prevailing. Pisa began in this way its rise to the role of main port of the Upper Tyrrhenian Sea and became the main trading centre between Tuscany and Corsica, Sardinia and the southern coasts of France and Spain. After Charlemagne had defeated the Lombards under the command of Desiderius in 774, Pisa went through a crisis but soon recovered. Politically it became part of the duchy of Lucca. In 930 Pisa became the county centre (status it maintained until the arrival of Otto I) within the mark of Tuscia. Lucca was the capital but Pisa was the most important city, as in the middle of 10th century Liutprand of Cremona, bishop of Cremona, called Pisa Tusciae provinciae caput (\"capital of the province of Tuscia\"), and one century later the marquis of Tuscia was commonly referred to as \"marquis of Pisa\". In 1003 Pisa was the protagonist of the first communal war in Italy, against Lucca. From the naval point of view, since the 9th century the emergence of the Saracen pirates urged the city to expand its fleet: in the following years this fleet gave the town an opportunity for more expansion. In 828 Pisan ships assaulted the coast of North Africa. In 871 they took part in the defence of Salerno from the Saracens. In 970 they gave also strong support to the Otto I\\'s expedition, defeating a Byzantine fleet in front of Calabrese coasts.'"
      ]
     },
     "execution_count": 122,
     "metadata": {},
     "output_type": "execute_result"
    }
   ],
   "source": [
    "# test to see if it's correct:\n",
    "\n",
    "df[0][29]"
   ]
  },
  {
   "cell_type": "code",
   "execution_count": 120,
   "metadata": {},
   "outputs": [
    {
     "data": {
      "text/plain": [
       "\"Pisa lies at the junction of two rivers, the Arno and the Serchio, which form a laguna at the Tyrrhenian Sea. The origin of the name, Pisa, is a mystery. While the origin of the city had remained unknown for centuries, the Pelasgi, the Greeks, the Etruscans, and the Ligurians had variously been proposed as founders of the city (for example, a colony of the ancient city of Pisa, Greece). Archaeological remains from the 5th century BC confirmed the existence of a city at the sea, trading with Greeks and Gauls. The presence of an Etruscan necropolis, discovered during excavations in the Arena Garibaldi in 1991, confirmed its Etruscan origins.Ancient Roman authors referred to Pisa as an old city. Strabo referred Pisa's origins to the mythical Nestor, king of Pylos, after the fall of Troy. Virgil, in his Aeneid, states that Pisa was already a great center by the times described; the settlers from the Alpheus coast have been credited with the founding of the city in the 'Etruscan lands'. The Virgilian commentator Servius wrote that the Teuti, or Pelops, the king of the Pisaeans, founded the town thirteen centuries before the start of the common era. The maritime role of Pisa should have been already prominent if the ancient authorities ascribed to it the invention of the naval ram. Pisa took advantage of being the only port along the western coast from Genoa (then a small village) to Ostia. Pisa served as a base for Roman naval expeditions against Ligurians, Gauls and Carthaginians. In 180 BC, it became a Roman colony under Roman law, as Portus Pisanus. In 89 BC, Portus Pisanus became a municipium. Emperor Augustus fortified the colony into an important port and changed the name in Colonia Iulia obsequens.\""
      ]
     },
     "execution_count": 120,
     "metadata": {},
     "output_type": "execute_result"
    }
   ],
   "source": [
    "df[0][1]"
   ]
  },
  {
   "cell_type": "code",
   "execution_count": 123,
   "metadata": {},
   "outputs": [
    {
     "data": {
      "text/plain": [
       "\"Delhi was captured and sacked by Timur Lenk in 1398. Near Delhi, Timur massacred 100,000 captives. Delhi's decline continued under the Sayyid dynasty (14141451), until the sultanate was reduced to Delhi and its hinterland. Under the Afghan Lodhi dynasty (14511526), the Delhi sultanate recovered control of the Punjab and the Gangetic plain to once again achieve domination over northern India. However, the recovery was short-lived and in 1526 the sultanate was destroyed by Babur, founder of the Mughal dynasty. In 1526, Babur, a descendant of Genghis Khan and Timur, from the Fergana Valley in modern-day Uzbekistan, invaded India, defeated the last Lodhi sultan in the First Battle of Panipat and founded the Mughal Empire that ruled from Delhi and Agra. The Mughal dynasty ruled Delhi for more than three centuries, with a sixteen-year hiatus during the reign of Sher Shah Suri, from 1540 to 1556. In 1553, the Hindu king, Hemu Vikramaditya acceded to the throne of Delhi by defeating forces of Mughal Emperor Humayun at Agra and Delhi. However, the Mughals re-established their rule after Akbar's army defeated Hemu during the Second Battle of Panipat in 1556. Shah Jahan built the seventh city of Delhi that bears his name Shahjahanabad, which served as the capital of the Mughal Empire from 1638 and is today known as the Old City or Old Delhi. After 1720, the Mughal Empire's influence declined rapidly as the Hindu Maratha Empire rose to prominence. In 1737, Maratha forces sacked Delhi following their victory against the Mughals in the First Battle of Delhi. In 1739, the Mughal Empire lost the Battle of Karnal, following which the victorious forces of Nader Shah, the Turkic ruler of the Afsharid dynasty, invaded and looted Delhi, carrying away many treasures, including the Peacock Throne. A treaty signed in 1752 made Marathas the protectors of the Mughal throne in Delhi.\""
      ]
     },
     "execution_count": 123,
     "metadata": {},
     "output_type": "execute_result"
    }
   ],
   "source": [
    "df[0][38]"
   ]
  },
  {
   "cell_type": "code",
   "execution_count": 124,
   "metadata": {},
   "outputs": [
    {
     "data": {
      "text/plain": [
       "'The king Prithviraj Chauhan was defeated in 1192 by the Afghan invader Muhammad Ghori who made a concerted effort to conquer northern India. By 1200, Hindu resistance had begun to crumble. Dominance of Muslim dynasties in India was to last for the next five centuries. On the death of Muhammad in 1206, the Turkic slave-general, Qutb-ud-din Aibak, broke away from the Ghurid Dynasty and became the first Sultan of Delhi. He began construction of the Qutb Minar and Quwwat-al-Islam (might of Islam) mosque, the earliest extant mosque in India. Qutb-ud-din faced widespread Hindu rebellions and it was his successor, Iltutmish (121136), who consolidated the Muslim conquest of northern India.. For the next three hundred years, Delhi was ruled by a succession of Turkic and an Afghan, Lodhi dynasty. They built a number of forts and townships that are part of the seven cities of Delhi. Delhi was a major centre of Sufism during this period. The Mamluk Sultanate (Delhi) was overthrown in 1290 by the Khilji dynasty (12901320). Under the second Khilji ruler, Ala-ud-din Khilji, the Delhi sultanate extended its control south of the Narmada River in the Deccan. The Delhi sultanate reached its greatest extent during the reign of Muhammad bin Tughluq (13251351). In an attempt to bring the whole of the Deccan under control, he moved his capital to Daulatabad, Maharashtra in central India, but by moving away from Delhi he lost control of the north and was forced to return to Delhi to restore order. The southern provinces then broke away. In the years following the reign of Firoz Shah Tughlaq (13511388), the Delhi sultanate rapidly began to lose its hold over its northern provinces.'"
      ]
     },
     "execution_count": 124,
     "metadata": {},
     "output_type": "execute_result"
    }
   ],
   "source": [
    "df[0][2]"
   ]
  },
  {
   "cell_type": "code",
   "execution_count": 137,
   "metadata": {},
   "outputs": [
    {
     "name": "stdout",
     "output_type": "stream",
     "text": [
      "7\n",
      "11\n",
      "10\n",
      "5\n",
      "3\n",
      "4\n",
      "14\n",
      "1\n",
      "6\n",
      "16\n",
      "15\n",
      "13\n",
      "8\n",
      "18\n",
      "9\n",
      "20\n",
      "2\n",
      "17\n",
      "12\n",
      "19\n"
     ]
    }
   ],
   "source": [
    "# combined:\n",
    "\n",
    "import pandas as pd\n",
    "import numpy as np\n",
    "\n",
    "import sklearn.feature_extraction.text\n",
    "from sklearn.feature_extraction.text import TfidfVectorizer\n",
    "\n",
    "import sklearn.metrics\n",
    "from sklearn.metrics.pairwise import cosine_similarity\n",
    "\n",
    "df = pd.read_fwf('input00.txt', header = None)\n",
    "num_document = int(df[0][0])\n",
    "\n",
    "set_a = df[1:num_document+1][[0]]\n",
    "set_b = df[num_document+2:][[0]]\n",
    "\n",
    "corpus = set_a.append(set_b)\n",
    "corpus = corpus[0]\n",
    "\n",
    "vectorizer = TfidfVectorizer()\n",
    "corpus_tfidf = vectorizer.fit_transform(corpus)\n",
    "\n",
    "vectorized_a_list = vectorizer.transform(set_a[0])\n",
    "vectorized_b_list = vectorizer.transform(set_b[0])\n",
    "\n",
    "\n",
    "solution = {}\n",
    "# for example solution[22] = 1\n",
    "\n",
    "matrix = [[0] * num_document for _ in range(num_document)]\n",
    "\n",
    "for i in range(num_document):\n",
    "    for j in range(num_document):\n",
    "        matrix[i][j] = [i+1, j+num_document+2, abs(cosine_similarity(vectorized_a_list[i], vectorized_b_list[j]))]\n",
    "        \n",
    "for a in matrix:\n",
    "    new_list = sorted(a, key = lambda x: -x[2])\n",
    "    for a_index, b_index, value in new_list:\n",
    "        if a_index not in solution.values() and b_index not in solution:\n",
    "            solution[b_index] = a_index\n",
    "            continue\n",
    "\n",
    "for b_index in range(num_document+2, 2*num_document+2):\n",
    "    print(solution[b_index])"
   ]
  },
  {
   "cell_type": "code",
   "execution_count": 127,
   "metadata": {},
   "outputs": [
    {
     "name": "stdout",
     "output_type": "stream",
     "text": [
      "The demonym for a Moscow resident is \"\" (moskvich), rendered in English as Muscovite. The city is named after the river (old Russian:  , literally \"the city by the Moskva River\"). The first reference to Moscow dates from 1147 when Yuri Dolgorukiy called upon the prince of the Novgorod-Severski to \"come to me, brother, to Moscow\". Nine years later, in 1156, Prince Yuri Dolgorukiy of Rostov ordered the construction of a wooden wall, the Kremlin, which had to be rebuilt multiple times, to surround the emerging city. After the sacking of 12371238, when the Mongols burned the city to the ground and killed its inhabitants, Moscow recovered and became the capital of the independent Vladimir-Suzdal principality in 1327. Its favorable position on the headwaters of the Volga River contributed to steady expansion. Moscow developed into a stable and prosperous principality, known as Grand Duchy of Moscow, for many years and attracted a large number of refugees from across Russia. Under Ivan I of Moscow the city replaced Tver as a political center of Vladimir-Suzdal and became the sole collector of taxes for the Mongol-Tatar rulers. By paying high tribute, Ivan won an important concession from the Khan. Unlike other principalities, Moscow was not divided among his sons, but was passed intact to his eldest. Moscow's opposition against foreign domination grew. In 1380, prince Dmitry Donskoy of Moscow led a united Russian army to an important victory over the Tatars in the Battle of Kulikovo. The battle, however, was not decisive and only two years later Moscow was sacked by khan Tokhtamysh. Ivan III, in 1480, finally broke the Russian people free from Tatar control, allowing Moscow to become the center of power in Russia. Under Ivan III the city became the capital of an empire that would eventually encompass all of present-day Russia and other lands.\n"
     ]
    }
   ],
   "source": [
    "print(df[0][22])"
   ]
  },
  {
   "cell_type": "code",
   "execution_count": 128,
   "metadata": {},
   "outputs": [
    {
     "name": "stdout",
     "output_type": "stream",
     "text": [
      "Moscow (/mska/ or /msko/; Russian: , tr. Moskva, IPA: [mskva] ( listen)) is the capital city and the most populous federal subject of Russia. The city is a major political, economic, cultural and scientific center in Russia and in Eurasia. According to Forbes 2013, Moscow has the largest community of billionaires in the world. Moscow is the northernmost megacity on Earth, the most populous city in Europe, and the 5th largest city proper in the world. It is the largest city in Russia, with a population, according to the 2010 Census, of 11,503,501. By its territorial expansion on July 1, 2012 southwest into the Moscow Oblast, the capital increased its area 2.5 times; from about 1,000 square kilometers (390 sq mi) up to 2,511 square kilometers (970 sq mi), and gained an additional population of 233,000 people. Moscow is situated on the Moskva River in the Central Federal District of European Russia. In the course of its history the city has served as the capital of a progression of states, from the medieval Grand Duchy of Moscow and the subsequent Tsardom of Russia to the Soviet Union. Moscow is the site of the Moscow Kremlin, a medieval city-fortress that is today the residence of the Russian president. The Moscow Kremlin is also one of several World Heritage Sites in the city. Both chambers of the Russian parliament (the State Duma and the Federation Council) also sit in Moscow. The city is served by an extensive transit network, which includes four international airports, nine railway terminals, and one of the deepest underground metro systems in the world, the Moscow Metro, third to Tokyo and Seoul in terms of passenger numbers. It is recognized as one of the city's landmarks due to the rich and varied architecture of its 188 stations. Over time, Moscow has acquired a number of epithets, most referring to its size and preeminent status within the nation: The Third Rome ( ), The Whitestone One (), The First Throne (), The Forty Forties ( ), and The Hero City (-). In old Russian the word \"\" (forty) also meant a church administrative district, which consisted of about forty churches.\n"
     ]
    }
   ],
   "source": [
    "print(df[0][7])"
   ]
  },
  {
   "cell_type": "code",
   "execution_count": 129,
   "metadata": {},
   "outputs": [
    {
     "name": "stdout",
     "output_type": "stream",
     "text": [
      "Africa is the world's second-largest and second-most-populous continent. At about 30.2 million km (11.7 million sq mi) including adjacent islands, it covers six percent of the Earth's total surface area and 20.4 percent of the total land area. With 1.0 billion people (as of 2009, see table), it accounts for about 15% of the world's human population. The continent is surrounded by the Mediterranean Sea to the north, both the Suez Canal and the Red Sea along the Sinai Peninsula to the northeast, the Indian Ocean to the southeast, and the Atlantic Ocean to the west. The continent includes Madagascar and various archipelagoes. It has 54 fully recognized sovereign states (\"countries\"), 9 territories and two de facto independent states with limited or no recognition. Africa is the youngest continent in terms of its population - 50 percent of Africans are 19 years old or younger. Despite some fast-growing economies, Africa continues to have some of the highest child malnutrition rates and lack of schooling rates in the world. Africa's name is derived from an ancient area in modern day Tunisia known as Ifriqiya or sunny place, in Tamazight. Algeria is the largest African country by area, and Nigeria is the largest by population. Africa, particularly central Eastern Africa, is widely accepted as the origin of humans and the Hominidae clade (great apes), as evidenced by the discovery of the earliest hominids and their ancestors, as well as later ones that have been dated to around seven million years ago  including Sahelanthropus tchadensis, Australopithecus africanus, A. afarensis, Homo erectus, H. habilis and H. ergaster  with the earliest Homo sapiens (modern human) found in Ethiopia being dated to circa 200,000 years ago. Africa straddles the equator and encompasses numerous climate areas; it is the only continent to stretch from the northern temperate to southern temperate zones. Afri was a Latin name used to refer to the Carthaginians, who dwelt in North Africa in modern-day Tunisia. This name seems to have originally referred to a native Libyan tribe; however, see Terence#Biography for discussion. The name is usually connected with Phoenician afar, \"dust\", but a 1981 hypothesis has asserted that it stems from the Berber ifri (plural ifran) \"cave\", in reference to cave dwellers.\n"
     ]
    }
   ],
   "source": [
    "print(df[0][8])"
   ]
  },
  {
   "cell_type": "code",
   "execution_count": 136,
   "metadata": {},
   "outputs": [],
   "source": [
    "# from sklearn.feature_extraction.text import TfidfVectorizer\n",
    "# vectorizer = TfidfVectorizer(min_df=1)\n",
    "# tfidf = vectorizer.fit_transform(corpus)\n",
    "# sim = (tfidf * tfidf.T)\n",
    "# N = num_document\n",
    "# usedA = set()\n",
    "# usedB = set()\n",
    "# solution = dict()\n",
    "\n",
    "# print(sim.shape)\n",
    "\n",
    "# vals = [(-sim[i,j], i, j) for i in range(N) for j in range(N)]\n",
    "\n",
    "# print(vals)\n",
    "# for v,i,j in sorted(vals):\n",
    "#     #print v,i,j\n",
    "#     if i in usedA or j in usedB: \n",
    "#         continue\n",
    "#     else:\n",
    "#         usedA.add(i)\n",
    "#         usedB.add(j)\n",
    "#         solution[i]=j\n",
    "        \n",
    "\n",
    "# for i in range(N):\n",
    "#     print(solution[i]+1)"
   ]
  },
  {
   "cell_type": "code",
   "execution_count": null,
   "metadata": {},
   "outputs": [],
   "source": []
  }
 ],
 "metadata": {
  "kernelspec": {
   "display_name": "Python 3",
   "language": "python",
   "name": "python3"
  },
  "language_info": {
   "codemirror_mode": {
    "name": "ipython",
    "version": 3
   },
   "file_extension": ".py",
   "mimetype": "text/x-python",
   "name": "python",
   "nbconvert_exporter": "python",
   "pygments_lexer": "ipython3",
   "version": "3.7.1"
  }
 },
 "nbformat": 4,
 "nbformat_minor": 2
}
