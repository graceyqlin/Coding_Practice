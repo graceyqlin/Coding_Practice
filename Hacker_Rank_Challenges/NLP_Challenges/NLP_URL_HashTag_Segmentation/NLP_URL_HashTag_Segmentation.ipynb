{
 "cells": [
  {
   "cell_type": "code",
   "execution_count": 1,
   "metadata": {},
   "outputs": [],
   "source": [
    "import pandas as pd\n",
    "import numpy as np"
   ]
  },
  {
   "cell_type": "code",
   "execution_count": 28,
   "metadata": {},
   "outputs": [],
   "source": [
    "valid_words = []\n",
    "with open('words.txt') as f:\n",
    "    for line in f:\n",
    "        valid_words.append(line.replace('\\n', ''))"
   ]
  },
  {
   "cell_type": "code",
   "execution_count": 30,
   "metadata": {},
   "outputs": [],
   "source": [
    "valid_words = set(valid_words)"
   ]
  },
  {
   "cell_type": "code",
   "execution_count": 15,
   "metadata": {},
   "outputs": [],
   "source": [
    "input_sentence = []\n",
    "with open('input04.txt') as f:\n",
    "    for line in f:\n",
    "        input_sentence.append(line.replace('\\n', ''))"
   ]
  },
  {
   "cell_type": "code",
   "execution_count": 17,
   "metadata": {},
   "outputs": [],
   "source": [
    "input_sentence = input_sentence[1:]"
   ]
  },
  {
   "cell_type": "code",
   "execution_count": 19,
   "metadata": {},
   "outputs": [],
   "source": [
    "l1 = [word.replace('.com', '') for word in input_sentence]"
   ]
  },
  {
   "cell_type": "code",
   "execution_count": 21,
   "metadata": {},
   "outputs": [],
   "source": [
    "l2 = [word.replace('www.', '') for word in l1]"
   ]
  },
  {
   "cell_type": "code",
   "execution_count": 22,
   "metadata": {},
   "outputs": [],
   "source": [
    "l3 = [word.replace('#', '') for word in l1]"
   ]
  },
  {
   "cell_type": "code",
   "execution_count": 26,
   "metadata": {},
   "outputs": [],
   "source": [
    "l4 = [word.split('.')[0] for word in l3]"
   ]
  },
  {
   "cell_type": "code",
   "execution_count": 99,
   "metadata": {},
   "outputs": [],
   "source": [
    "def parse_string1(string, result):\n",
    "    if len(string) == 0:\n",
    "        return True\n",
    "\n",
    "    if string in valid_words:\n",
    "        result.append(string)\n",
    "        return True\n",
    "    \n",
    "    else:\n",
    "        string_list = list(string)\n",
    "        for i in range(len(string_list)):\n",
    "            next_word = str(''.join(string_list[i:]))\n",
    "#             print(next_word)\n",
    "            if next_word in valid_words and parse_string(string[:i], result):\n",
    "                print(next_word)\n",
    "                result.append(next_word)\n",
    "#                 print(result)\n",
    "    return False\n",
    "    \n",
    "\n",
    "        "
   ]
  },
  {
   "cell_type": "code",
   "execution_count": 94,
   "metadata": {},
   "outputs": [
    {
     "data": {
      "text/plain": [
       "'fa'"
      ]
     },
     "execution_count": 94,
     "metadata": {},
     "output_type": "execute_result"
    }
   ],
   "source": [
    "''.join(list('fastconcert'[:2]))"
   ]
  },
  {
   "cell_type": "code",
   "execution_count": 113,
   "metadata": {},
   "outputs": [],
   "source": [
    "def parse_string2(s,result, index):\n",
    "    if s=='': \n",
    "        return True\n",
    "    l=len(s)\n",
    "    for i in range(index, l):\n",
    "        word=s[i:]\n",
    "        if word in valid_words:\n",
    "            if parse_string2(s[:i],result, i): \n",
    "                result.append(word)\n",
    "                return True\n",
    "    \n",
    "    return False"
   ]
  },
  {
   "cell_type": "code",
   "execution_count": 100,
   "metadata": {},
   "outputs": [
    {
     "data": {
      "text/plain": [
       "['major', 'fast']"
      ]
     },
     "execution_count": 100,
     "metadata": {},
     "output_type": "execute_result"
    }
   ],
   "source": [
    "result = []\n",
    "parse_string1('fastmajorconcert', result)\n",
    "result"
   ]
  },
  {
   "cell_type": "code",
   "execution_count": 114,
   "metadata": {},
   "outputs": [
    {
     "data": {
      "text/plain": [
       "[]"
      ]
     },
     "execution_count": 114,
     "metadata": {},
     "output_type": "execute_result"
    }
   ],
   "source": [
    "result = []\n",
    "parse_string2('majorconcertfast', result, 0)\n",
    "result"
   ]
  }
 ],
 "metadata": {
  "kernelspec": {
   "display_name": "Python 3",
   "language": "python",
   "name": "python3"
  },
  "language_info": {
   "codemirror_mode": {
    "name": "ipython",
    "version": 3
   },
   "file_extension": ".py",
   "mimetype": "text/x-python",
   "name": "python",
   "nbconvert_exporter": "python",
   "pygments_lexer": "ipython3",
   "version": "3.7.1"
  }
 },
 "nbformat": 4,
 "nbformat_minor": 2
}
