{
 "cells": [
  {
   "cell_type": "code",
   "execution_count": 27,
   "metadata": {},
   "outputs": [],
   "source": [
    "import sklearn\n",
    "from sklearn import linear_model\n",
    "import numpy\n",
    "import pandas as pd\n",
    "\n",
    "from sklearn.model_selection import train_test_split, GridSearchCV, ShuffleSplit\n",
    "from sklearn.metrics import classification_report, accuracy_score\n",
    "from sklearn.linear_model import LinearRegression\n",
    "from sklearn.metrics import mean_squared_error, r2_score, explained_variance_score\n",
    "from sklearn.ensemble import RandomForestRegressor, GradientBoostingRegressor\n",
    "\n",
    "import matplotlib.pyplot as plt\n",
    "import seaborn as sns\n",
    "\n",
    "import sys\n",
    "if not sys.warnoptions:\n",
    "    import warnings\n",
    "    warnings.simplefilter(\"ignore\")"
   ]
  },
  {
   "cell_type": "code",
   "execution_count": null,
   "metadata": {},
   "outputs": [],
   "source": [
    "# HackerRank problem link:\n",
    "# https://www.hackerrank.com/challenges/predicting-office-space-price/problem"
   ]
  },
  {
   "cell_type": "code",
   "execution_count": null,
   "metadata": {},
   "outputs": [],
   "source": [
    "# When reading from Hacker Rank:\n",
    "# temp = []  \n",
    "# for f in fileinput.input(): \n",
    "#     temp.append(f)\n",
    "\n",
    "# df = pd.DataFrame(temp)\n",
    "# df[0] = df[0].str.replace('\\n', '')\n"
   ]
  },
  {
   "cell_type": "code",
   "execution_count": 3,
   "metadata": {},
   "outputs": [
    {
     "name": "stdout",
     "output_type": "stream",
     "text": [
      "                  0\n",
      "0             2 100\n",
      "1  0.44 0.68 511.14\n",
      "2   0.99 0.23 717.1\n",
      "3  0.84 0.29 607.91\n",
      "4   0.28 0.45 270.4\n"
     ]
    }
   ],
   "source": [
    "# when reading locally\n",
    "df = pd.read_csv('input03.txt', header= None)\n",
    "print(df.head())"
   ]
  },
  {
   "cell_type": "code",
   "execution_count": 12,
   "metadata": {},
   "outputs": [],
   "source": [
    "first_line = df[0][0]\n",
    "feature_num = int(first_line.split(' ')[0])\n",
    "train_cnt = int(first_line.split(' ')[1])\n",
    "input_cnt = df[0][train_cnt+1]"
   ]
  },
  {
   "cell_type": "code",
   "execution_count": 13,
   "metadata": {},
   "outputs": [],
   "source": [
    "df_train_validation = pd.DataFrame(df[1:train_cnt+1][0].str.split(\" \").tolist())\n",
    "\n",
    "df_train, df_validation = train_test_split(df_train_validation, test_size=.2)"
   ]
  },
  {
   "cell_type": "code",
   "execution_count": 25,
   "metadata": {},
   "outputs": [],
   "source": [
    "X_train = df_train[df_train.columns[:-1]]\n",
    "y_train = df_train[df_train.columns[-1]]\n",
    "\n",
    "X_validation = df_validation[df_validation.columns[:-1]]\n",
    "y_validation = df_validation[df_validation.columns[-1]]"
   ]
  },
  {
   "cell_type": "code",
   "execution_count": 31,
   "metadata": {},
   "outputs": [
    {
     "data": {
      "text/plain": [
       "LinearRegression(copy_X=True, fit_intercept=True, n_jobs=None,\n",
       "         normalize=False)"
      ]
     },
     "execution_count": 31,
     "metadata": {},
     "output_type": "execute_result"
    }
   ],
   "source": [
    "model = LinearRegression()\n",
    "model.fit(X_train, y_train)"
   ]
  },
  {
   "cell_type": "code",
   "execution_count": 32,
   "metadata": {},
   "outputs": [
    {
     "name": "stdout",
     "output_type": "stream",
     "text": [
      "4219.026674631921\n",
      "0.943783954927539\n",
      "0.9566368520313758\n"
     ]
    }
   ],
   "source": [
    "y_validation_pred = model.predict(X_validation)\n",
    "print(mean_squared_error(y_validation_pred, y_validation))\n",
    "print(r2_score(y_validation_pred, y_validation))\n",
    "print(explained_variance_score(y_validation_pred, y_validation))"
   ]
  },
  {
   "cell_type": "code",
   "execution_count": 33,
   "metadata": {},
   "outputs": [
    {
     "name": "stdout",
     "output_type": "stream",
     "text": [
      "3559.5840645000017\n",
      "0.9411669291242196\n",
      "0.9451808002266489\n"
     ]
    }
   ],
   "source": [
    "model = RandomForestRegressor()\n",
    "model.fit(X_train, y_train)\n",
    "y_validation_pred = model.predict(X_validation)\n",
    "print(mean_squared_error(y_validation_pred, y_validation))\n",
    "print(r2_score(y_validation_pred, y_validation))\n",
    "print(explained_variance_score(y_validation_pred, y_validation))"
   ]
  },
  {
   "cell_type": "code",
   "execution_count": 34,
   "metadata": {},
   "outputs": [
    {
     "name": "stdout",
     "output_type": "stream",
     "text": [
      "2162.2104944576586\n",
      "0.9646894289596788\n",
      "0.9671164323798387\n"
     ]
    }
   ],
   "source": [
    "model = GradientBoostingRegressor()\n",
    "model.fit(X_train, y_train)\n",
    "y_validation_pred = model.predict(X_validation)\n",
    "print(mean_squared_error(y_validation_pred, y_validation))\n",
    "print(r2_score(y_validation_pred, y_validation))\n",
    "print(explained_variance_score(y_validation_pred, y_validation))"
   ]
  },
  {
   "cell_type": "code",
   "execution_count": 40,
   "metadata": {},
   "outputs": [],
   "source": [
    "df_input = pd.DataFrame(df[train_cnt+2:][0].str.split(\" \").tolist())\n",
    "\n"
   ]
  },
  {
   "cell_type": "code",
   "execution_count": 44,
   "metadata": {},
   "outputs": [
    {
     "name": "stdout",
     "output_type": "stream",
     "text": [
      "160.37\n",
      "1343.17\n",
      "507.33\n",
      "281.16\n"
     ]
    }
   ],
   "source": [
    "for i in model.predict(df_input):\n",
    "    print(\"%.2f\" % i)"
   ]
  },
  {
   "cell_type": "code",
   "execution_count": null,
   "metadata": {},
   "outputs": [],
   "source": []
  }
 ],
 "metadata": {
  "kernelspec": {
   "display_name": "Python 3",
   "language": "python",
   "name": "python3"
  },
  "language_info": {
   "codemirror_mode": {
    "name": "ipython",
    "version": 3
   },
   "file_extension": ".py",
   "mimetype": "text/x-python",
   "name": "python",
   "nbconvert_exporter": "python",
   "pygments_lexer": "ipython3",
   "version": "3.7.1"
  }
 },
 "nbformat": 4,
 "nbformat_minor": 2
}
