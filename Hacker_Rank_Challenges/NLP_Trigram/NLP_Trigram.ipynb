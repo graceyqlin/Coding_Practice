{
 "cells": [
  {
   "cell_type": "markdown",
   "metadata": {},
   "source": [
    "https://www.hackerrank.com/challenges/the-trigram/problem"
   ]
  },
  {
   "cell_type": "markdown",
   "metadata": {},
   "source": [
    "Given a large chunk of text, identify the most frequently occurring trigram in it. If there are multiple trigrams with the same frequency, then print the one which occurred first.\n",
    "\n",
    "Assume that trigrams are groups of three consecutive words in the same sentence which are separated by nothing but a single space and are case insensitive. The size of the input will be less than 10 kilobytes."
   ]
  },
  {
   "cell_type": "markdown",
   "metadata": {},
   "source": [
    "Input: I love games. I love to code.\n",
    "Here \"games I love\" is not a trigram because all the three words in trigram should be from the \n",
    "same sentence."
   ]
  },
  {
   "cell_type": "code",
   "execution_count": 31,
   "metadata": {},
   "outputs": [],
   "source": [
    "s1 = 'I came from the moon. He went to the other room. She went to the drawing room.'"
   ]
  },
  {
   "cell_type": "code",
   "execution_count": 32,
   "metadata": {},
   "outputs": [],
   "source": [
    "s2 = 'I love to dance. I like to dance I. like to play chess.'"
   ]
  },
  {
   "cell_type": "code",
   "execution_count": 85,
   "metadata": {},
   "outputs": [],
   "source": [
    "def get_most_frequent_trigram(s):\n",
    "    from collections import defaultdict \n",
    "    count_dic = defaultdict(list)\n",
    "    max_cnt = 0\n",
    "    max_tri = ''\n",
    "        \n",
    "    s_list = s.split(' ')\n",
    "\n",
    "    if len(s_list) <= 3:\n",
    "        return s\n",
    "\n",
    "    for i in range(len(s_list)-2):\n",
    "        current_tri = [word.lower() for word in s_list[i:i+3]]\n",
    "        combined_word = ''.join(current_tri) \n",
    "        if combined_word.isalpha():                \n",
    "            if combined_word in count_dic:\n",
    "                count_dic[combined_word] += 1\n",
    "            else:\n",
    "                count_dic[combined_word] = 1\n",
    "\n",
    "            if count_dic[combined_word] > max_cnt:\n",
    "                max_tri = ' '.join(current_tri)        \n",
    "                max_cnt = count_dic[combined_word]\n",
    "                \n",
    "    return max_tri                    "
   ]
  },
  {
   "cell_type": "code",
   "execution_count": 48,
   "metadata": {},
   "outputs": [
    {
     "data": {
      "text/plain": [
       "'went to the'"
      ]
     },
     "execution_count": 48,
     "metadata": {},
     "output_type": "execute_result"
    }
   ],
   "source": [
    "get_most_frequent_trigram(s1)"
   ]
  },
  {
   "cell_type": "code",
   "execution_count": 50,
   "metadata": {},
   "outputs": [
    {
     "data": {
      "text/plain": [
       "'i love to'"
      ]
     },
     "execution_count": 50,
     "metadata": {},
     "output_type": "execute_result"
    }
   ],
   "source": [
    "get_most_frequent_trigram(s2)"
   ]
  },
  {
   "cell_type": "code",
   "execution_count": 89,
   "metadata": {},
   "outputs": [],
   "source": [
    "# when read from Hackerrank:\n",
    "\n",
    "import sys\n",
    "import re\n",
    "s = \" \".join([lines.strip().lower() for lines in sys.stdin.readlines()])"
   ]
  },
  {
   "cell_type": "code",
   "execution_count": 96,
   "metadata": {},
   "outputs": [
    {
     "data": {
      "text/plain": [
       "32"
      ]
     },
     "execution_count": 96,
     "metadata": {},
     "output_type": "execute_result"
    }
   ],
   "source": [
    "ord(' ')"
   ]
  },
  {
   "cell_type": "code",
   "execution_count": null,
   "metadata": {},
   "outputs": [],
   "source": []
  }
 ],
 "metadata": {
  "kernelspec": {
   "display_name": "Python 3",
   "language": "python",
   "name": "python3"
  },
  "language_info": {
   "codemirror_mode": {
    "name": "ipython",
    "version": 3
   },
   "file_extension": ".py",
   "mimetype": "text/x-python",
   "name": "python",
   "nbconvert_exporter": "python",
   "pygments_lexer": "ipython3",
   "version": "3.7.1"
  }
 },
 "nbformat": 4,
 "nbformat_minor": 2
}
