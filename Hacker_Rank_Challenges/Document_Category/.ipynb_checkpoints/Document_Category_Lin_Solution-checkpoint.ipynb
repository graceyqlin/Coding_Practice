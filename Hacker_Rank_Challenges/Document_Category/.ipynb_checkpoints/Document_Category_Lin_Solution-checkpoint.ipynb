{
 "cells": [
  {
   "cell_type": "code",
   "execution_count": 93,
   "metadata": {},
   "outputs": [],
   "source": [
    "import sys\n",
    "from sklearn.feature_extraction import text\n",
    "from sklearn import pipeline\n",
    "from sklearn import linear_model\n",
    "import numpy\n",
    "import pandas as pd\n",
    "from sklearn.feature_extraction.text import TfidfVectorizer\n",
    "from sklearn.model_selection import train_test_split\n",
    "\n",
    "from sklearn.metrics import classification_report\n",
    "from sklearn.metrics import accuracy_score\n",
    "from sklearn.linear_model import LogisticRegression\n",
    "from sklearn.naive_bayes import MultinomialNB\n",
    "from sklearn.model_selection import GridSearchCV\n",
    "from sklearn.model_selection import ShuffleSplit"
   ]
  },
  {
   "cell_type": "code",
   "execution_count": 1,
   "metadata": {},
   "outputs": [],
   "source": [
    "# Hacker Rank Link:\n",
    "# https://www.hackerrank.com/challenges/document-classification/problem"
   ]
  },
  {
   "cell_type": "code",
   "execution_count": 46,
   "metadata": {},
   "outputs": [],
   "source": [
    "def load_training_data(filename):\n",
    "    df = pd.read_fwf(filename, delim_whitespace = True, header = None)\n",
    "    df = df.rename(columns = {df.columns[0]:'text'})\n",
    "    df = df[['text']][1:]\n",
    "    df = pd.DataFrame(df['text'].str.split(\" \", 1).tolist(), columns = ['category','text'])\n",
    "    train_set, validation_set = train_test_split(df, test_size=.2)\n",
    "    y_train = train_set['category']\n",
    "    x_train = train_set['text']\n",
    "    y_validation = validation_set['category']\n",
    "    x_validation = validation_set['text']\n",
    "    return x_train, y_train, x_validation, y_validation"
   ]
  },
  {
   "cell_type": "code",
   "execution_count": 47,
   "metadata": {},
   "outputs": [],
   "source": [
    "def load_new_input_data(filename):\n",
    "    df = pd.read_fwf(filename, delim_whitespace = True, header = None)\n",
    "    df = df.rename(columns = {df.columns[0]:'text'})\n",
    "    df = df[['text']][1:]\n",
    "    x = df['text']\n",
    "    return x"
   ]
  },
  {
   "cell_type": "code",
   "execution_count": 48,
   "metadata": {},
   "outputs": [],
   "source": [
    "def vectorize_training_data(x):\n",
    "        vectorizer = TfidfVectorizer(stop_words='english', ngram_range=(1, 1),\n",
    "                              strip_accents='ascii', lowercase=True)\n",
    "        x_vectorized = vectorizer.fit_transform(x)\n",
    "        return x_vectorized, vectorizer   "
   ]
  },
  {
   "cell_type": "code",
   "execution_count": 49,
   "metadata": {},
   "outputs": [],
   "source": [
    "def vectorize_testing_data(x_test, vectorizer):\n",
    "    x_test_vectorized = vectorizer.transform(x_test)\n",
    "    return x_test_vectorized"
   ]
  },
  {
   "cell_type": "code",
   "execution_count": 50,
   "metadata": {},
   "outputs": [],
   "source": [
    "def train_model(model,x_vectorized, y):\n",
    "        classifier = linear_model.SGDClassifier(class_weight='balanced')\n",
    "        targets = y\n",
    "        classifier.fit(x_vectorized, y)\n",
    "        return classifier"
   ]
  },
  {
   "cell_type": "code",
   "execution_count": 51,
   "metadata": {},
   "outputs": [],
   "source": [
    "def evaluate(model, x_validation_vectorized, y_validation):\n",
    "        predictions = model.predict(x_validation_vectorized)\n",
    "        print (classification_report(y_validation, predictions))\n",
    "        print (\"The accuracy score is {:.2%}\".format(accuracy_score(y_validation, predictions)))"
   ]
  },
  {
   "cell_type": "code",
   "execution_count": 96,
   "metadata": {},
   "outputs": [],
   "source": [
    "def find_best_parameter(input_model, param_grid, x_train_vectorized, y_train):\n",
    "    cv_sets = ShuffleSplit(n_splits = 2, test_size = .33, random_state = 1)\n",
    "    grid_search = GridSearchCV(estimator=input_model, param_grid=param_grid, cv = cv_sets, scoring='accuracy')\n",
    "    grid_search.fit(x_train_vectorized, y_train)\n",
    "    best_model = grid_search.best_estimator_\n",
    "    return best_model"
   ]
  },
  {
   "cell_type": "code",
   "execution_count": 53,
   "metadata": {},
   "outputs": [],
   "source": [
    "x_train, y_train, x_validation, y_validation = load_training_data('trainingdata.txt')\n",
    "\n",
    "x_train_vectorized, vectorizer = vectorize_training_data(x_train)\n",
    "\n",
    "x_validation_vectorized = vectorize_testing_data(x_validation, vectorizer)"
   ]
  },
  {
   "cell_type": "code",
   "execution_count": 100,
   "metadata": {},
   "outputs": [
    {
     "name": "stdout",
     "output_type": "stream",
     "text": [
      "              precision    recall  f1-score   support\n",
      "\n",
      "           1       1.00      0.98      0.99       545\n",
      "           2       0.96      0.99      0.97       329\n",
      "           3       0.98      0.97      0.98        66\n",
      "           4       0.96      0.88      0.92        26\n",
      "           5       1.00      1.00      1.00         5\n",
      "           6       0.96      0.96      0.96        49\n",
      "           7       0.78      0.97      0.86        29\n",
      "           8       0.96      0.90      0.92        48\n",
      "\n",
      "   micro avg       0.97      0.97      0.97      1097\n",
      "   macro avg       0.95      0.96      0.95      1097\n",
      "weighted avg       0.98      0.97      0.97      1097\n",
      "\n",
      "The accuracy score is 97.36%\n"
     ]
    }
   ],
   "source": [
    "model1 = LogisticRegression()\n",
    "model = train_model(model1,x_train_vectorized, y_train)\n",
    "evaluate(model, x_validation_vectorized, y_validation)"
   ]
  },
  {
   "cell_type": "code",
   "execution_count": 101,
   "metadata": {},
   "outputs": [
    {
     "name": "stdout",
     "output_type": "stream",
     "text": [
      "              precision    recall  f1-score   support\n",
      "\n",
      "           1       0.98      0.98      0.98       545\n",
      "           2       0.94      0.98      0.96       329\n",
      "           3       1.00      0.94      0.97        66\n",
      "           4       0.95      0.73      0.83        26\n",
      "           5       1.00      0.80      0.89         5\n",
      "           6       0.98      0.88      0.92        49\n",
      "           7       0.76      0.97      0.85        29\n",
      "           8       0.97      0.79      0.87        48\n",
      "\n",
      "   micro avg       0.96      0.96      0.96      1097\n",
      "   macro avg       0.95      0.88      0.91      1097\n",
      "weighted avg       0.96      0.96      0.96      1097\n",
      "\n",
      "The accuracy score is 95.99%\n"
     ]
    }
   ],
   "source": [
    "# grid search for best C\n",
    "param_grid={'C': [0.01, 0.1, 1, 10]}\n",
    "model = find_best_parameter(model1, param_grid, x_train_vectorized, y_train)\n",
    "evaluate(model, x_validation_vectorized, y_validation)"
   ]
  },
  {
   "cell_type": "code",
   "execution_count": 102,
   "metadata": {},
   "outputs": [
    {
     "name": "stdout",
     "output_type": "stream",
     "text": [
      "              precision    recall  f1-score   support\n",
      "\n",
      "           1       0.99      0.98      0.99       545\n",
      "           2       0.96      0.98      0.97       329\n",
      "           3       1.00      0.97      0.98        66\n",
      "           4       0.96      0.88      0.92        26\n",
      "           5       1.00      1.00      1.00         5\n",
      "           6       0.96      0.98      0.97        49\n",
      "           7       0.78      0.97      0.86        29\n",
      "           8       0.93      0.85      0.89        48\n",
      "\n",
      "   micro avg       0.97      0.97      0.97      1097\n",
      "   macro avg       0.95      0.95      0.95      1097\n",
      "weighted avg       0.97      0.97      0.97      1097\n",
      "\n",
      "The accuracy score is 97.17%\n"
     ]
    }
   ],
   "source": [
    "model2 = linear_model.SGDClassifier()\n",
    "model = train_model(model2,x_train_vectorized, y_train)\n",
    "evaluate(model, x_validation_vectorized, y_validation)"
   ]
  },
  {
   "cell_type": "code",
   "execution_count": 103,
   "metadata": {},
   "outputs": [
    {
     "name": "stdout",
     "output_type": "stream",
     "text": [
      "              precision    recall  f1-score   support\n",
      "\n",
      "           1       0.99      0.98      0.99       545\n",
      "           2       0.96      0.98      0.97       329\n",
      "           3       0.97      0.98      0.98        66\n",
      "           4       0.92      0.88      0.90        26\n",
      "           5       1.00      0.80      0.89         5\n",
      "           6       0.94      0.96      0.95        49\n",
      "           7       0.71      1.00      0.83        29\n",
      "           8       1.00      0.81      0.90        48\n",
      "\n",
      "   micro avg       0.97      0.97      0.97      1097\n",
      "   macro avg       0.94      0.92      0.92      1097\n",
      "weighted avg       0.97      0.97      0.97      1097\n",
      "\n",
      "The accuracy score is 96.81%\n"
     ]
    }
   ],
   "source": [
    "model3 = MultinomialNB()\n",
    "model = train_model(model3,x_train_vectorized, y_train)\n",
    "evaluate(model, x_validation_vectorized, y_validation)"
   ]
  },
  {
   "cell_type": "code",
   "execution_count": 104,
   "metadata": {},
   "outputs": [],
   "source": [
    "x_test = load_new_input_data('stdin.txt')\n",
    "\n",
    "x_test_vectorized = vectorize_testing_data(x_test, vectorizer) "
   ]
  },
  {
   "cell_type": "code",
   "execution_count": 82,
   "metadata": {},
   "outputs": [
    {
     "name": "stdout",
     "output_type": "stream",
     "text": [
      "2\n",
      "2\n",
      "2\n"
     ]
    }
   ],
   "source": [
    "for line in model.predict(x_test_vectorized):\n",
    "    print(line)"
   ]
  },
  {
   "cell_type": "code",
   "execution_count": 5,
   "metadata": {},
   "outputs": [],
   "source": [
    "\n",
    "# # when we are running in hacker rank:\n",
    "# import fileinput \n",
    "\n",
    "# def load_hacker_rank_input():\n",
    "#     temp = []  \n",
    "    \n",
    "#     for f in fileinput.input(): \n",
    "#         temp.append(f)\n",
    "    \n",
    "#     df = pd.DataFrame(temp)\n",
    "#     df = df.rename(columns = {df.columns[0]:'text'})\n",
    "#     df['text'] = df['text'].str.replace('\\n', '')\n",
    "#     df = df[['text']][1:]\n",
    "#     x = df['text']\n",
    "#     return x\n",
    "\n",
    "# x_test = load_hacker_rank_input()\n",
    "\n",
    "# x_test_vectorized = vectorize_testing_data(x_test, vectorizer)\n",
    "\n",
    "# for line in model.predict(x_test_vectorized):\n",
    "#     print(line)"
   ]
  }
 ],
 "metadata": {
  "kernelspec": {
   "display_name": "Python 3",
   "language": "python",
   "name": "python3"
  },
  "language_info": {
   "codemirror_mode": {
    "name": "ipython",
    "version": 3
   },
   "file_extension": ".py",
   "mimetype": "text/x-python",
   "name": "python",
   "nbconvert_exporter": "python",
   "pygments_lexer": "ipython3",
   "version": "3.7.1"
  }
 },
 "nbformat": 4,
 "nbformat_minor": 2
}
